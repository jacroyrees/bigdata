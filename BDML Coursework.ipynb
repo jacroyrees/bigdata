{
 "cells": [
  {
   "cell_type": "markdown",
   "metadata": {},
   "source": [
    "## CSC345 Coursework: Object Recognition"
   ]
  },
  {
   "cell_type": "markdown",
   "metadata": {},
   "source": [
    "**Imports**"
   ]
  },
  {
   "cell_type": "code",
   "execution_count": 1,
   "metadata": {},
   "outputs": [],
   "source": [
    "import numpy as np\n",
    "import matplotlib.pyplot as plt\n",
    "import skimage.feature\n",
    "import tensorflow as tf\n",
    "from sklearn.model_selection import train_test_split\n",
    "##For Tuning\n",
    "from kerastuner.tuners import RandomSearch\n",
    "from tensorflow.keras.layers import Conv2D, Dense, Dropout, Flatten, MaxPooling2D\n",
    "from tensorflow import keras\n",
    "from keras.utils import np_utils\n",
    "import pandas as pd\n",
    "from pandas import DataFrame\n",
    "import seaborn as sb\n",
    "#Confusion Matrix\n",
    "import sklearn.metrics as metrics\n",
    "\n",
    "\n",
    "from sklearn.utils import shuffle"
   ]
  },
  {
   "cell_type": "code",
   "execution_count": 2,
   "metadata": {},
   "outputs": [
    {
     "name": "stdout",
     "output_type": "stream",
     "text": [
      "Device mapping:\n",
      "/job:localhost/replica:0/task:0/device:XLA_CPU:0 -> device: XLA_CPU device\n",
      "/job:localhost/replica:0/task:0/device:XLA_GPU:0 -> device: XLA_GPU device\n",
      "\n"
     ]
    }
   ],
   "source": [
    "#Using GPU acceleration\n",
    "sess = tf.compat.v1.Session(config=tf.compat.v1.ConfigProto(log_device_placement=True))\n"
   ]
  },
  {
   "cell_type": "markdown",
   "metadata": {},
   "source": [
    "## Set Random Seed For Repeatable Results"
   ]
  },
  {
   "cell_type": "code",
   "execution_count": 4,
   "metadata": {},
   "outputs": [],
   "source": [
    "np.random.seed(12)"
   ]
  },
  {
   "cell_type": "markdown",
   "metadata": {},
   "source": [
    "**Display Image**"
   ]
  },
  {
   "cell_type": "code",
   "execution_count": 5,
   "metadata": {},
   "outputs": [],
   "source": [
    "x_train = np.load('trnImage.npy')\n",
    "y_train = np.load('trnLabel.npy')\n",
    "x_test = np.load('tstImage.npy')\n",
    "y_test = np.load('tstLabel.npy')\n",
    "\n",
    "\n"
   ]
  },
  {
   "cell_type": "code",
   "execution_count": 6,
   "metadata": {},
   "outputs": [
    {
     "name": "stdout",
     "output_type": "stream",
     "text": [
      "X_train sample shape: (32, 32, 3)\n",
      "Number of Training Samples: 10000\n",
      "Number of Testing Samples: 1000\n",
      "Number Of Classes:10\n",
      "The classes are labelled as: [0 1 2 3 4 5 6 7 8 9]\n"
     ]
    }
   ],
   "source": [
    "print(f'X_train sample shape: {x_train.shape[0:3]}')\n",
    "print(f'Number of Training Samples: {x_train.shape[3]}')\n",
    "print(f'Number of Testing Samples: {x_test.shape[3]}')\n",
    "print(f'Number Of Classes:{len(np.unique(y_train))}')\n",
    "\n",
    "print(f'The classes are labelled as: {np.unique(y_train)}')"
   ]
  },
  {
   "cell_type": "markdown",
   "metadata": {},
   "source": [
    "## Load And Visualise Data"
   ]
  },
  {
   "cell_type": "code",
   "execution_count": 7,
   "metadata": {},
   "outputs": [
    {
     "data": {
      "image/png": "[encoded data removed]",
      "text/plain": [
       "<Figure size 432x288 with 1 Axes>"
      ]
     },
     "metadata": {
      "needs_background": "light"
     },
     "output_type": "display_data"
    }
   ],
   "source": [
    "# Select an Image From Training Set\n",
    "\n",
    "image_index = 98 # pick a specific image\n",
    "image = x_train[:, :, :, image_index]\n",
    "\n",
    "plt.figure()\n",
    "\n",
    "plt.subplot(122)\n",
    "plt.imshow(image)\n",
    "plt.suptitle(f'Image number: {image_index}')\n",
    "plt.show(block=False)"
   ]
  },
  {
   "cell_type": "markdown",
   "metadata": {},
   "source": [
    "## Transpose the Data"
   ]
  },
  {
   "cell_type": "code",
   "execution_count": 8,
   "metadata": {},
   "outputs": [
    {
     "name": "stdout",
     "output_type": "stream",
     "text": [
      "32 32 3\n",
      "(32, 32, 3, 10000)\n",
      "(10000, 32, 32, 3)\n"
     ]
    }
   ],
   "source": [
    "height, width, colour, samples = x_train.shape #load the shape into independant variables\n",
    "\n",
    "print(height, width, colour) #display the variables passed into the CNN\n",
    "print(x_train.shape) #display the original shape\n",
    "x_train = np.transpose(x_train, [3, 0,1,2]) #Reshape from HWCS\n",
    "x_test = np.transpose(x_test, [3, 0,1,2]) #Into SHWC\n",
    "print(x_train.shape)\n"
   ]
  },
  {
   "cell_type": "code",
   "execution_count": 9,
   "metadata": {},
   "outputs": [],
   "source": [
    "x_train, y_train = shuffle(x_train, y_train, random_state=0)\n",
    "x_test, y_test = shuffle(x_test, y_test, random_state=0)"
   ]
  },
  {
   "cell_type": "markdown",
   "metadata": {},
   "source": [
    "## Convert to One-Hot Encoding"
   ]
  },
  {
   "cell_type": "code",
   "execution_count": 10,
   "metadata": {},
   "outputs": [],
   "source": [
    "y_train = keras.utils.to_categorical(y_train)\n",
    "y_test = keras.utils.to_categorical(y_test)"
   ]
  },
  {
   "cell_type": "markdown",
   "metadata": {},
   "source": [
    "## Normalise Data Set"
   ]
  },
  {
   "cell_type": "code",
   "execution_count": 11,
   "metadata": {},
   "outputs": [],
   "source": [
    "def normalise(x):\n",
    "    minimum = np.min(x)\n",
    "    maximum = np.max(x)\n",
    "    x = (x-minimum) / (maximum-minimum)\n",
    "    return x"
   ]
  },
  {
   "cell_type": "code",
   "execution_count": 12,
   "metadata": {},
   "outputs": [],
   "source": [
    "x_train = x_train.astype('float32')\n",
    "x_test = x_test.astype('float32')\n",
    "x_train = normalise(x_train)\n",
    "x_test = normalise(x_test)"
   ]
  },
  {
   "cell_type": "markdown",
   "metadata": {},
   "source": [
    "## Instanstiate A C.N.N Model with 3 layers"
   ]
  },
  {
   "cell_type": "markdown",
   "metadata": {},
   "source": [
    "**This model uses 2 conv layers with the relu activation function.  \n",
    "It also uses maxPooling between each conv layer.  \n",
    "Dropout is used in order to regularize the neural network by switching certain nodes off with certain probabilities.** "
   ]
  },
  {
   "cell_type": "code",
   "execution_count": 240,
   "metadata": {},
   "outputs": [],
   "source": [
    "\n",
    "\n",
    "SGDmodel = tf.keras.Sequential(layers=[\n",
    "    #First Layer\n",
    "    tf.keras.layers.Conv2D(32, (3, 3), activation='relu', input_shape=(height, width, colour)),\n",
    "    \n",
    "    tf.keras.layers.MaxPooling2D(pool_size=(2, 2)),\n",
    "    tf.keras.layers.Dropout(0.2),\n",
    "    #Second Layer\n",
    "    tf.keras.layers.Conv2D(64, (3, 3), activation='relu'),\n",
    "    \n",
    "    tf.keras.layers.MaxPooling2D(pool_size=(2, 2)),\n",
    "    tf.keras.layers.Dropout(0.4),\n",
    "    #Third Layer\n",
    "    tf.keras.layers.Conv2D(128, (3, 3), activation='relu'),\n",
    "    \n",
    "    tf.keras.layers.MaxPooling2D((2, 2)),\n",
    "    tf.keras.layers.Dropout(0.6),\n",
    "    \n",
    "    #flatten\n",
    "    tf.keras.layers.Flatten(),\n",
    "    tf.keras.layers.Dense(1024, activation='relu'),\n",
    "    #Dense Layer\n",
    "    \n",
    "    tf.keras.layers.Dense(10, activation='softmax')\n",
    "])\n",
    "\n"
   ]
  },
  {
   "cell_type": "markdown",
   "metadata": {},
   "source": [
    "## Running the Model With Stochastic Gradient Descent"
   ]
  },
  {
   "cell_type": "code",
   "execution_count": 241,
   "metadata": {},
   "outputs": [],
   "source": [
    "\n",
    "SGDmodel.compile(optimizer=tf.keras.optimizers.SGD(), \n",
    "              loss=tf.keras.losses.CategoricalCrossentropy(), \n",
    "              metrics=tf.keras.metrics.CategoricalAccuracy())"
   ]
  },
  {
   "cell_type": "code",
   "execution_count": 242,
   "metadata": {},
   "outputs": [
    {
     "name": "stdout",
     "output_type": "stream",
     "text": [
      "Epoch 1/30\n",
      "250/250 - 4s - loss: 2.3061 - categorical_accuracy: 0.0993 - val_loss: 2.2970 - val_categorical_accuracy: 0.1200\n",
      "Epoch 2/30\n",
      "250/250 - 4s - loss: 2.2861 - categorical_accuracy: 0.1128 - val_loss: 2.2791 - val_categorical_accuracy: 0.1800\n",
      "Epoch 3/30\n",
      "250/250 - 4s - loss: 2.2399 - categorical_accuracy: 0.1609 - val_loss: 2.2185 - val_categorical_accuracy: 0.2110\n",
      "Epoch 4/30\n",
      "250/250 - 4s - loss: 2.1643 - categorical_accuracy: 0.1894 - val_loss: 2.1178 - val_categorical_accuracy: 0.2130\n",
      "Epoch 5/30\n",
      "250/250 - 4s - loss: 2.0998 - categorical_accuracy: 0.2071 - val_loss: 2.0819 - val_categorical_accuracy: 0.2155\n",
      "Epoch 6/30\n",
      "250/250 - 4s - loss: 2.0705 - categorical_accuracy: 0.2247 - val_loss: 2.1526 - val_categorical_accuracy: 0.1805\n",
      "Epoch 7/30\n",
      "250/250 - 4s - loss: 2.0503 - categorical_accuracy: 0.2175 - val_loss: 2.0673 - val_categorical_accuracy: 0.2185\n",
      "Epoch 8/30\n",
      "250/250 - 4s - loss: 2.0364 - categorical_accuracy: 0.2326 - val_loss: 2.0145 - val_categorical_accuracy: 0.2365\n",
      "Epoch 9/30\n",
      "250/250 - 4s - loss: 2.0117 - categorical_accuracy: 0.2444 - val_loss: 2.0207 - val_categorical_accuracy: 0.2415\n",
      "Epoch 10/30\n",
      "250/250 - 4s - loss: 1.9860 - categorical_accuracy: 0.2539 - val_loss: 1.9394 - val_categorical_accuracy: 0.2935\n",
      "Epoch 11/30\n",
      "250/250 - 4s - loss: 1.9465 - categorical_accuracy: 0.2702 - val_loss: 1.9068 - val_categorical_accuracy: 0.2720\n",
      "Epoch 12/30\n",
      "250/250 - 4s - loss: 1.9088 - categorical_accuracy: 0.2788 - val_loss: 1.8574 - val_categorical_accuracy: 0.3135\n",
      "Epoch 13/30\n",
      "250/250 - 4s - loss: 1.8864 - categorical_accuracy: 0.2925 - val_loss: 1.8160 - val_categorical_accuracy: 0.3275\n",
      "Epoch 14/30\n",
      "250/250 - 4s - loss: 1.8515 - categorical_accuracy: 0.3075 - val_loss: 1.7927 - val_categorical_accuracy: 0.3315\n",
      "Epoch 15/30\n",
      "250/250 - 4s - loss: 1.8338 - categorical_accuracy: 0.3200 - val_loss: 1.7731 - val_categorical_accuracy: 0.3455\n",
      "Epoch 16/30\n",
      "250/250 - 4s - loss: 1.7996 - categorical_accuracy: 0.3271 - val_loss: 1.8226 - val_categorical_accuracy: 0.3465\n",
      "Epoch 17/30\n",
      "250/250 - 4s - loss: 1.7815 - categorical_accuracy: 0.3380 - val_loss: 1.7268 - val_categorical_accuracy: 0.3835\n",
      "Epoch 18/30\n",
      "250/250 - 4s - loss: 1.7637 - categorical_accuracy: 0.3459 - val_loss: 1.7095 - val_categorical_accuracy: 0.3740\n",
      "Epoch 19/30\n",
      "250/250 - 4s - loss: 1.7412 - categorical_accuracy: 0.3569 - val_loss: 1.6921 - val_categorical_accuracy: 0.3855\n",
      "Epoch 20/30\n",
      "250/250 - 4s - loss: 1.7297 - categorical_accuracy: 0.3649 - val_loss: 1.6446 - val_categorical_accuracy: 0.4165\n",
      "Epoch 21/30\n",
      "250/250 - 4s - loss: 1.7111 - categorical_accuracy: 0.3684 - val_loss: 1.6229 - val_categorical_accuracy: 0.4205\n",
      "Epoch 22/30\n",
      "250/250 - 4s - loss: 1.6860 - categorical_accuracy: 0.3770 - val_loss: 1.5989 - val_categorical_accuracy: 0.4230\n",
      "Epoch 23/30\n",
      "250/250 - 4s - loss: 1.6827 - categorical_accuracy: 0.3789 - val_loss: 1.6000 - val_categorical_accuracy: 0.4340\n",
      "Epoch 24/30\n",
      "250/250 - 4s - loss: 1.6615 - categorical_accuracy: 0.3824 - val_loss: 1.6149 - val_categorical_accuracy: 0.4260\n",
      "Epoch 25/30\n",
      "250/250 - 4s - loss: 1.6443 - categorical_accuracy: 0.3901 - val_loss: 1.6046 - val_categorical_accuracy: 0.4275\n",
      "Epoch 26/30\n",
      "250/250 - 4s - loss: 1.6386 - categorical_accuracy: 0.3988 - val_loss: 1.5610 - val_categorical_accuracy: 0.4445\n",
      "Epoch 27/30\n",
      "250/250 - 4s - loss: 1.6333 - categorical_accuracy: 0.3970 - val_loss: 1.5492 - val_categorical_accuracy: 0.4530\n",
      "Epoch 28/30\n",
      "250/250 - 4s - loss: 1.6201 - categorical_accuracy: 0.4084 - val_loss: 1.5350 - val_categorical_accuracy: 0.4560\n",
      "Epoch 29/30\n",
      "250/250 - 4s - loss: 1.6063 - categorical_accuracy: 0.4096 - val_loss: 1.5277 - val_categorical_accuracy: 0.4525\n",
      "Epoch 30/30\n",
      "250/250 - 4s - loss: 1.5871 - categorical_accuracy: 0.4234 - val_loss: 1.5159 - val_categorical_accuracy: 0.4615\n"
     ]
    }
   ],
   "source": [
    "history = SGDmodel.fit(x_train,y_train,epochs=30,\n",
    "         validation_split=0.2, verbose = 2, batch_size=32)"
   ]
  },
  {
   "cell_type": "code",
   "execution_count": 243,
   "metadata": {},
   "outputs": [
    {
     "data": {
      "image/png": "[encoded data removed]",
      "text/plain": [
       "<Figure size 720x360 with 2 Axes>"
      ]
     },
     "metadata": {
      "needs_background": "light"
     },
     "output_type": "display_data"
    }
   ],
   "source": [
    "plt.figure(figsize=[10,5])\n",
    "plt.subplot(121)\n",
    "plt.plot(history.history['categorical_accuracy'])\n",
    "plt.plot(history.history['val_categorical_accuracy'])\n",
    "plt.xlabel('Epoch')\n",
    "plt.ylabel('Accuracy')\n",
    "plt.legend(['Training Accuracy',\n",
    "           'Validation Accuracy'])\n",
    "plt.title('Accuracy Curves')\n",
    "\n",
    "plt.subplot(122)\n",
    "plt.plot(history.history['loss'])\n",
    "plt.plot(history.history['val_loss'])\n",
    "plt.xlabel('Epoch')\n",
    "plt.ylabel('Loss')\n",
    "plt.legend(['Training Loss',\n",
    "           'Validation Loss'])\n",
    "plt.title('Loss Curves')\n",
    "plt.show()"
   ]
  },
  {
   "cell_type": "code",
   "execution_count": 244,
   "metadata": {},
   "outputs": [
    {
     "name": "stdout",
     "output_type": "stream",
     "text": [
      "loss: 1.5877586603164673\n",
      "accuracy: 0.4480000138282776\n"
     ]
    }
   ],
   "source": [
    "loss, accuracy = SGDmodel.evaluate(x_test,y_test, verbose = 0)\n",
    "print('loss:', loss)\n",
    "print('accuracy:', accuracy)\n"
   ]
  },
  {
   "cell_type": "markdown",
   "metadata": {},
   "source": [
    "## Running Model With Adam Optimizer"
   ]
  },
  {
   "cell_type": "code",
   "execution_count": 245,
   "metadata": {},
   "outputs": [],
   "source": [
    "Adammodel = tf.keras.Sequential(layers=[\n",
    "    #First Layer\n",
    "    tf.keras.layers.Conv2D(32, (3, 3), activation='relu', input_shape=(height, width, colour)),\n",
    "    \n",
    "    tf.keras.layers.MaxPooling2D(pool_size=(2, 2)),\n",
    "    tf.keras.layers.Dropout(0.2),\n",
    "    #Second Layer\n",
    "    tf.keras.layers.Conv2D(64, (3, 3), activation='relu'),\n",
    "    \n",
    "    tf.keras.layers.MaxPooling2D(pool_size=(2, 2)),\n",
    "    tf.keras.layers.Dropout(0.4),\n",
    "    #Third Layer\n",
    "    tf.keras.layers.Conv2D(128, (3, 3), activation='relu'),\n",
    "    \n",
    "    tf.keras.layers.MaxPooling2D((2, 2)),\n",
    "    tf.keras.layers.Dropout(0.6),\n",
    "    \n",
    "    #flatten\n",
    "    tf.keras.layers.Flatten(),\n",
    "    tf.keras.layers.Dense(1024, activation='relu'),\n",
    "    #Dense Layer\n",
    "    \n",
    "    tf.keras.layers.Dense(10, activation='softmax')\n",
    "])\n"
   ]
  },
  {
   "cell_type": "code",
   "execution_count": 246,
   "metadata": {},
   "outputs": [],
   "source": [
    "Adammodel.compile(optimizer=tf.keras.optimizers.Adam(0.001), \n",
    "              loss=tf.keras.losses.CategoricalCrossentropy(), \n",
    "              metrics=tf.keras.metrics.CategoricalAccuracy())"
   ]
  },
  {
   "cell_type": "code",
   "execution_count": 247,
   "metadata": {},
   "outputs": [
    {
     "name": "stdout",
     "output_type": "stream",
     "text": [
      "Epoch 1/30\n",
      "250/250 - 4s - loss: 2.0214 - categorical_accuracy: 0.2276 - val_loss: 1.7624 - val_categorical_accuracy: 0.3640\n",
      "Epoch 2/30\n",
      "250/250 - 4s - loss: 1.7497 - categorical_accuracy: 0.3400 - val_loss: 1.6177 - val_categorical_accuracy: 0.4215\n",
      "Epoch 3/30\n",
      "250/250 - 4s - loss: 1.6309 - categorical_accuracy: 0.3889 - val_loss: 1.4979 - val_categorical_accuracy: 0.4645\n",
      "Epoch 4/30\n",
      "250/250 - 4s - loss: 1.5392 - categorical_accuracy: 0.4265 - val_loss: 1.4083 - val_categorical_accuracy: 0.4895\n",
      "Epoch 5/30\n",
      "250/250 - 4s - loss: 1.4923 - categorical_accuracy: 0.4543 - val_loss: 1.3301 - val_categorical_accuracy: 0.5410\n",
      "Epoch 6/30\n",
      "250/250 - 4s - loss: 1.4489 - categorical_accuracy: 0.4711 - val_loss: 1.3201 - val_categorical_accuracy: 0.5415\n",
      "Epoch 7/30\n",
      "250/250 - 4s - loss: 1.3933 - categorical_accuracy: 0.4886 - val_loss: 1.3190 - val_categorical_accuracy: 0.5225\n",
      "Epoch 8/30\n",
      "250/250 - 4s - loss: 1.3710 - categorical_accuracy: 0.5069 - val_loss: 1.2462 - val_categorical_accuracy: 0.5730\n",
      "Epoch 9/30\n",
      "250/250 - 4s - loss: 1.3471 - categorical_accuracy: 0.5086 - val_loss: 1.2407 - val_categorical_accuracy: 0.5500\n",
      "Epoch 10/30\n",
      "250/250 - 4s - loss: 1.3066 - categorical_accuracy: 0.5234 - val_loss: 1.2074 - val_categorical_accuracy: 0.5740\n",
      "Epoch 11/30\n",
      "250/250 - 4s - loss: 1.2953 - categorical_accuracy: 0.5271 - val_loss: 1.1687 - val_categorical_accuracy: 0.5950\n",
      "Epoch 12/30\n",
      "250/250 - 4s - loss: 1.2622 - categorical_accuracy: 0.5412 - val_loss: 1.1893 - val_categorical_accuracy: 0.5675\n",
      "Epoch 13/30\n",
      "250/250 - 4s - loss: 1.2402 - categorical_accuracy: 0.5541 - val_loss: 1.1529 - val_categorical_accuracy: 0.5875\n",
      "Epoch 14/30\n",
      "250/250 - 4s - loss: 1.2221 - categorical_accuracy: 0.5626 - val_loss: 1.1439 - val_categorical_accuracy: 0.6065\n",
      "Epoch 15/30\n",
      "250/250 - 4s - loss: 1.2057 - categorical_accuracy: 0.5604 - val_loss: 1.1020 - val_categorical_accuracy: 0.6275\n",
      "Epoch 16/30\n",
      "250/250 - 4s - loss: 1.1805 - categorical_accuracy: 0.5713 - val_loss: 1.1464 - val_categorical_accuracy: 0.5985\n",
      "Epoch 17/30\n",
      "250/250 - 4s - loss: 1.1640 - categorical_accuracy: 0.5782 - val_loss: 1.0985 - val_categorical_accuracy: 0.6150\n",
      "Epoch 18/30\n",
      "250/250 - 4s - loss: 1.1464 - categorical_accuracy: 0.5834 - val_loss: 1.0790 - val_categorical_accuracy: 0.6225\n",
      "Epoch 19/30\n",
      "250/250 - 4s - loss: 1.1518 - categorical_accuracy: 0.5882 - val_loss: 1.0655 - val_categorical_accuracy: 0.6270\n",
      "Epoch 20/30\n",
      "250/250 - 4s - loss: 1.1178 - categorical_accuracy: 0.5981 - val_loss: 1.0840 - val_categorical_accuracy: 0.6230\n",
      "Epoch 21/30\n",
      "250/250 - 4s - loss: 1.1081 - categorical_accuracy: 0.6014 - val_loss: 1.0421 - val_categorical_accuracy: 0.6300\n",
      "Epoch 22/30\n",
      "250/250 - 4s - loss: 1.0965 - categorical_accuracy: 0.6016 - val_loss: 1.1018 - val_categorical_accuracy: 0.6040\n",
      "Epoch 23/30\n",
      "250/250 - 4s - loss: 1.0755 - categorical_accuracy: 0.6137 - val_loss: 1.0586 - val_categorical_accuracy: 0.6445\n",
      "Epoch 24/30\n",
      "250/250 - 4s - loss: 1.0542 - categorical_accuracy: 0.6181 - val_loss: 1.0692 - val_categorical_accuracy: 0.6150\n",
      "Epoch 25/30\n",
      "250/250 - 4s - loss: 1.0582 - categorical_accuracy: 0.6199 - val_loss: 1.0251 - val_categorical_accuracy: 0.6530\n",
      "Epoch 26/30\n",
      "250/250 - 4s - loss: 1.0326 - categorical_accuracy: 0.6239 - val_loss: 1.0432 - val_categorical_accuracy: 0.6545\n",
      "Epoch 27/30\n",
      "250/250 - 4s - loss: 1.0203 - categorical_accuracy: 0.6316 - val_loss: 1.0418 - val_categorical_accuracy: 0.6525\n",
      "Epoch 28/30\n",
      "250/250 - 4s - loss: 1.0136 - categorical_accuracy: 0.6364 - val_loss: 1.0685 - val_categorical_accuracy: 0.6140\n",
      "Epoch 29/30\n",
      "250/250 - 4s - loss: 1.0023 - categorical_accuracy: 0.6410 - val_loss: 0.9997 - val_categorical_accuracy: 0.6535\n",
      "Epoch 30/30\n",
      "250/250 - 4s - loss: 0.9949 - categorical_accuracy: 0.6388 - val_loss: 1.0495 - val_categorical_accuracy: 0.6335\n"
     ]
    }
   ],
   "source": [
    "history = Adammodel.fit(x_train,y_train,epochs=30,batch_size=32,\n",
    "         validation_split=0.2, verbose = 2)"
   ]
  },
  {
   "cell_type": "code",
   "execution_count": 248,
   "metadata": {},
   "outputs": [
    {
     "data": {
      "image/png": "[encoded data removed]",
      "text/plain": [
       "<Figure size 720x360 with 2 Axes>"
      ]
     },
     "metadata": {
      "needs_background": "light"
     },
     "output_type": "display_data"
    }
   ],
   "source": [
    "plt.figure(figsize=[10,5])\n",
    "plt.subplot(121)\n",
    "plt.plot(history.history['categorical_accuracy'])\n",
    "plt.plot(history.history['val_categorical_accuracy'])\n",
    "plt.xlabel('Epoch')\n",
    "plt.ylabel('Accuracy')\n",
    "plt.legend(['Training Accuracy',\n",
    "           'Validation Accuracy'])\n",
    "plt.title('Accuracy Curves')\n",
    "\n",
    "plt.subplot(122)\n",
    "plt.plot(history.history['loss'])\n",
    "plt.plot(history.history['val_loss'])\n",
    "plt.xlabel('Epoch')\n",
    "plt.ylabel('Loss')\n",
    "plt.legend(['Training Loss',\n",
    "           'Validation Loss'])\n",
    "plt.title('Loss Curves')\n",
    "plt.show()"
   ]
  },
  {
   "cell_type": "code",
   "execution_count": 249,
   "metadata": {},
   "outputs": [
    {
     "name": "stdout",
     "output_type": "stream",
     "text": [
      "loss: 1.136033535003662\n",
      "accuracy: 0.5950000286102295\n"
     ]
    }
   ],
   "source": [
    "loss, accuracy = Adammodel.evaluate(x_test,y_test, verbose = 0)\n",
    "print('loss:', loss)\n",
    "print('accuracy:', accuracy)\n"
   ]
  },
  {
   "cell_type": "markdown",
   "metadata": {},
   "source": [
    "## Building A Keras Tuner Model"
   ]
  },
  {
   "cell_type": "code",
   "execution_count": 17,
   "metadata": {},
   "outputs": [],
   "source": [
    "def build_model(hp):\n",
    "    model = tf.keras.Sequential()\n",
    "    model.add(tf.keras.layers.Conv2D(hp.Int('input_units', min_value=32, max_value=256, step=32), (3,3),input_shape=(height, width, colour)))\n",
    "    model.add(tf.keras.layers.Activation('relu'))\n",
    "    model.add(tf.keras.layers.MaxPooling2D(pool_size=(2, 2)))\n",
    "    if(np.random.random() < 0.5):\n",
    "        model.add(tf.keras.layers.Dropout(rate=hp.Float( 'dropout_1',\n",
    "                    min_value=0.0,\n",
    "                    max_value=0.5,\n",
    "                    default=0.25,\n",
    "                    step=0.05,\n",
    "                )))\n",
    "    for i in range(hp.Int('n_layers', 1, 4)):\n",
    "        model.add(tf.keras.layers.Conv2D(hp.Int(f'conv_{i}_units', min_value=32, max_value=256, step=32), (3,3)))\n",
    "        model.add(tf.keras.layers.Activation('relu'))\n",
    "    model.add(tf.keras.layers.MaxPooling2D(pool_size=(2, 2)))\n",
    "    if(np.random.random() < 0.5):\n",
    "        model.add(tf.keras.layers.Dropout(rate=hp.Float( 'dropout_2',\n",
    "                    min_value=0.0,\n",
    "                    max_value=0.5,\n",
    "                    default=0.25,\n",
    "                    step=0.05,\n",
    "                )))\n",
    "    model.add(tf.keras.layers.Flatten())\n",
    "    \n",
    "    for i in range(hp.Int('n_connections', 1, 4)):\n",
    "        model.add(tf.keras.layers.Dense(hp.Choice(f'n_nodes', values=[128,256,512,1024])))\n",
    "        model.add(tf.keras.layers.Activation('relu'))\n",
    "    \n",
    "    \n",
    "    model.add(tf.keras.layers.Dense(10))\n",
    "    model.add(tf.keras.layers.Activation('softmax'))\n",
    "    \n",
    "    model.compile(optimizer=tf.keras.optimizers.Adam(), \n",
    "              loss=tf.keras.losses.CategoricalCrossentropy(), \n",
    "              metrics=['accuracy'])\n",
    "    \n",
    "    return model"
   ]
  },
  {
   "cell_type": "code",
   "execution_count": 18,
   "metadata": {},
   "outputs": [],
   "source": [
    "tuner_search=RandomSearch(build_model, objective='val_accuracy', max_trials=70, directory='random_search', executions_per_trial= 2,\n",
    "    project_name='cifar10')"
   ]
  },
  {
   "cell_type": "code",
   "execution_count": 19,
   "metadata": {},
   "outputs": [
    {
     "name": "stdout",
     "output_type": "stream",
     "text": [
      "Trial 61 Complete [00h 32m 31s]\n",
      "val_accuracy: 0.5902499854564667\n",
      "\n",
      "Best val_accuracy So Far: 0.6277499794960022\n",
      "Total elapsed time: 05h 14m 34s\n",
      "\n",
      "Search: Running Trial #62\n",
      "\n",
      "Hyperparameter    |Value             |Best Value So Far \n",
      "input_units       |160               |128               \n",
      "dropout_1         |0.15              |0.25              \n",
      "n_layers          |2                 |2                 \n",
      "conv_0_units      |224               |224               \n",
      "n_connections     |2                 |3                 \n",
      "n_nodes           |128               |256               \n",
      "conv_1_units      |256               |192               \n",
      "conv_2_units      |64                |128               \n",
      "conv_3_units      |96                |96                \n",
      "dropout_2         |0.4               |0.45              \n",
      "\n",
      "Epoch 1/50\n",
      "250/250 [==============================] - 23s 92ms/step - loss: 2.0021 - accuracy: 0.2406 - val_loss: 1.8098 - val_accuracy: 0.3435\n",
      "Epoch 2/50\n",
      "250/250 [==============================] - 23s 91ms/step - loss: 1.6542 - accuracy: 0.3895 - val_loss: 1.5440 - val_accuracy: 0.4245\n",
      "Epoch 3/50\n",
      "250/250 [==============================] - 23s 91ms/step - loss: 1.5111 - accuracy: 0.4514 - val_loss: 1.4313 - val_accuracy: 0.4785\n",
      "Epoch 4/50\n",
      "250/250 [==============================] - 23s 92ms/step - loss: 1.3843 - accuracy: 0.4913 - val_loss: 1.3658 - val_accuracy: 0.4995\n",
      "Epoch 5/50\n",
      "250/250 [==============================] - 23s 91ms/step - loss: 1.2766 - accuracy: 0.5390 - val_loss: 1.2517 - val_accuracy: 0.5630\n",
      "Epoch 6/50\n",
      "250/250 [==============================] - 23s 91ms/step - loss: 1.1728 - accuracy: 0.5773 - val_loss: 1.2009 - val_accuracy: 0.5675\n",
      "Epoch 7/50\n",
      "250/250 [==============================] - 23s 92ms/step - loss: 1.0753 - accuracy: 0.6148 - val_loss: 1.2715 - val_accuracy: 0.5505\n",
      "Epoch 8/50\n",
      "250/250 [==============================] - 23s 91ms/step - loss: 0.9802 - accuracy: 0.6488 - val_loss: 1.2461 - val_accuracy: 0.5510\n",
      "Epoch 9/50\n",
      "250/250 [==============================] - 23s 91ms/step - loss: 0.8715 - accuracy: 0.6883 - val_loss: 1.1884 - val_accuracy: 0.5910\n",
      "Epoch 10/50\n",
      "250/250 [==============================] - 23s 91ms/step - loss: 0.7775 - accuracy: 0.7245 - val_loss: 1.2522 - val_accuracy: 0.5690\n",
      "Epoch 11/50\n",
      "250/250 [==============================] - 23s 91ms/step - loss: 0.6667 - accuracy: 0.7628 - val_loss: 1.2926 - val_accuracy: 0.5895\n",
      "Epoch 12/50\n",
      "250/250 [==============================] - 23s 91ms/step - loss: 0.5672 - accuracy: 0.8016 - val_loss: 1.2898 - val_accuracy: 0.5930\n",
      "Epoch 13/50\n",
      "250/250 [==============================] - 23s 91ms/step - loss: 0.4830 - accuracy: 0.8279 - val_loss: 1.5324 - val_accuracy: 0.5610\n",
      "Epoch 14/50\n",
      "250/250 [==============================] - 23s 91ms/step - loss: 0.4015 - accuracy: 0.8562 - val_loss: 1.6621 - val_accuracy: 0.5670\n",
      "Epoch 15/50\n",
      "250/250 [==============================] - 23s 91ms/step - loss: 0.3555 - accuracy: 0.8764 - val_loss: 1.6938 - val_accuracy: 0.5760\n",
      "Epoch 16/50\n",
      "250/250 [==============================] - 23s 91ms/step - loss: 0.2625 - accuracy: 0.9068 - val_loss: 1.9639 - val_accuracy: 0.5715\n",
      "Epoch 17/50\n",
      "250/250 [==============================] - 23s 91ms/step - loss: 0.2230 - accuracy: 0.9216 - val_loss: 2.0616 - val_accuracy: 0.5760\n",
      "Epoch 18/50\n",
      "250/250 [==============================] - 23s 91ms/step - loss: 0.1852 - accuracy: 0.9364 - val_loss: 2.1934 - val_accuracy: 0.5670\n",
      "Epoch 19/50\n",
      "250/250 [==============================] - 23s 91ms/step - loss: 0.1702 - accuracy: 0.9406 - val_loss: 2.3582 - val_accuracy: 0.5685\n",
      "Epoch 20/50\n",
      "250/250 [==============================] - 23s 91ms/step - loss: 0.1698 - accuracy: 0.9414 - val_loss: 2.3439 - val_accuracy: 0.5860\n",
      "Epoch 21/50\n",
      "250/250 [==============================] - 23s 91ms/step - loss: 0.1484 - accuracy: 0.9457 - val_loss: 2.5232 - val_accuracy: 0.5730\n",
      "Epoch 22/50\n",
      "250/250 [==============================] - 23s 91ms/step - loss: 0.1317 - accuracy: 0.9541 - val_loss: 2.6014 - val_accuracy: 0.5725\n",
      "Epoch 23/50\n",
      "250/250 [==============================] - 23s 91ms/step - loss: 0.1465 - accuracy: 0.9510 - val_loss: 2.4827 - val_accuracy: 0.5690\n",
      "Epoch 24/50\n",
      "250/250 [==============================] - 23s 91ms/step - loss: 0.1405 - accuracy: 0.9539 - val_loss: 2.6240 - val_accuracy: 0.5730\n",
      "Epoch 25/50\n",
      "250/250 [==============================] - 23s 91ms/step - loss: 0.0957 - accuracy: 0.9699 - val_loss: 2.8111 - val_accuracy: 0.5745\n",
      "Epoch 26/50\n",
      "250/250 [==============================] - 23s 91ms/step - loss: 0.1309 - accuracy: 0.9551 - val_loss: 2.6642 - val_accuracy: 0.5800\n",
      "Epoch 27/50\n",
      "250/250 [==============================] - 23s 91ms/step - loss: 0.0743 - accuracy: 0.9749 - val_loss: 2.8384 - val_accuracy: 0.5610\n",
      "Epoch 28/50\n",
      "250/250 [==============================] - 23s 91ms/step - loss: 0.1216 - accuracy: 0.9604 - val_loss: 2.7942 - val_accuracy: 0.5685\n",
      "Epoch 29/50\n",
      "250/250 [==============================] - 23s 91ms/step - loss: 0.0660 - accuracy: 0.9771 - val_loss: 3.0968 - val_accuracy: 0.5580\n",
      "Epoch 30/50\n",
      "250/250 [==============================] - 23s 91ms/step - loss: 0.1174 - accuracy: 0.9599 - val_loss: 3.1091 - val_accuracy: 0.5630\n",
      "Epoch 31/50\n",
      "250/250 [==============================] - 23s 91ms/step - loss: 0.0853 - accuracy: 0.9705 - val_loss: 2.9900 - val_accuracy: 0.5750\n",
      "Epoch 32/50\n",
      "250/250 [==============================] - 23s 91ms/step - loss: 0.0826 - accuracy: 0.9716 - val_loss: 3.3372 - val_accuracy: 0.5750\n",
      "Epoch 33/50\n",
      "250/250 [==============================] - 23s 91ms/step - loss: 0.0956 - accuracy: 0.9680 - val_loss: 3.1310 - val_accuracy: 0.5565\n",
      "Epoch 34/50\n",
      "250/250 [==============================] - 23s 91ms/step - loss: 0.0687 - accuracy: 0.9764 - val_loss: 3.2805 - val_accuracy: 0.5735\n",
      "Epoch 35/50\n",
      "250/250 [==============================] - 23s 91ms/step - loss: 0.0501 - accuracy: 0.9833 - val_loss: 3.4268 - val_accuracy: 0.5635\n",
      "Epoch 36/50\n",
      "250/250 [==============================] - 23s 91ms/step - loss: 0.0745 - accuracy: 0.9764 - val_loss: 3.6185 - val_accuracy: 0.5530\n",
      "Epoch 37/50\n",
      "250/250 [==============================] - 23s 91ms/step - loss: 0.1031 - accuracy: 0.9663 - val_loss: 3.3083 - val_accuracy: 0.5635\n",
      "Epoch 38/50\n",
      "250/250 [==============================] - 23s 91ms/step - loss: 0.1056 - accuracy: 0.9654 - val_loss: 3.2280 - val_accuracy: 0.5745\n",
      "Epoch 39/50\n",
      "250/250 [==============================] - 23s 91ms/step - loss: 0.0663 - accuracy: 0.9776 - val_loss: 3.2349 - val_accuracy: 0.5775\n",
      "Epoch 40/50\n",
      "250/250 [==============================] - 23s 91ms/step - loss: 0.0495 - accuracy: 0.9827 - val_loss: 3.3062 - val_accuracy: 0.5725\n",
      "Epoch 41/50\n",
      "250/250 [==============================] - 23s 91ms/step - loss: 0.0519 - accuracy: 0.9836 - val_loss: 3.6302 - val_accuracy: 0.5565\n",
      "Epoch 42/50\n",
      "250/250 [==============================] - 23s 91ms/step - loss: 0.0970 - accuracy: 0.9688 - val_loss: 3.3546 - val_accuracy: 0.5585\n",
      "Epoch 43/50\n",
      "250/250 [==============================] - 23s 91ms/step - loss: 0.0879 - accuracy: 0.9715 - val_loss: 3.2643 - val_accuracy: 0.5625\n",
      "Epoch 44/50\n",
      "250/250 [==============================] - 23s 91ms/step - loss: 0.0766 - accuracy: 0.9751 - val_loss: 3.3941 - val_accuracy: 0.5715\n",
      "Epoch 45/50\n",
      "250/250 [==============================] - 23s 91ms/step - loss: 0.0383 - accuracy: 0.9862 - val_loss: 3.6440 - val_accuracy: 0.5940\n",
      "Epoch 46/50\n",
      "250/250 [==============================] - 23s 91ms/step - loss: 0.0782 - accuracy: 0.9754 - val_loss: 3.6282 - val_accuracy: 0.5710\n",
      "Epoch 47/50\n",
      "250/250 [==============================] - 23s 91ms/step - loss: 0.0989 - accuracy: 0.9690 - val_loss: 3.2891 - val_accuracy: 0.5645\n",
      "Epoch 48/50\n",
      "250/250 [==============================] - 23s 91ms/step - loss: 0.0473 - accuracy: 0.9843 - val_loss: 3.6654 - val_accuracy: 0.5710\n",
      "Epoch 49/50\n",
      "250/250 [==============================] - 23s 91ms/step - loss: 0.0772 - accuracy: 0.9751 - val_loss: 3.8028 - val_accuracy: 0.5675\n",
      "Epoch 50/50\n",
      "250/250 [==============================] - 23s 91ms/step - loss: 0.0691 - accuracy: 0.9775 - val_loss: 3.4409 - val_accuracy: 0.5765\n",
      "Epoch 1/50\n",
      "250/250 [==============================] - 23s 92ms/step - loss: 1.9950 - accuracy: 0.2466 - val_loss: 1.6900 - val_accuracy: 0.3815\n",
      "Epoch 2/50\n",
      "250/250 [==============================] - 23s 91ms/step - loss: 1.6471 - accuracy: 0.3944 - val_loss: 1.5811 - val_accuracy: 0.4515\n",
      "Epoch 3/50\n",
      "250/250 [==============================] - 23s 91ms/step - loss: 1.4905 - accuracy: 0.4565 - val_loss: 1.4257 - val_accuracy: 0.4730\n",
      "Epoch 4/50\n",
      "250/250 [==============================] - 23s 91ms/step - loss: 1.3736 - accuracy: 0.5014 - val_loss: 1.3258 - val_accuracy: 0.5260\n",
      "Epoch 5/50\n",
      "250/250 [==============================] - 23s 91ms/step - loss: 1.2584 - accuracy: 0.5455 - val_loss: 1.2494 - val_accuracy: 0.5485\n",
      "Epoch 6/50\n",
      "250/250 [==============================] - 23s 91ms/step - loss: 1.1800 - accuracy: 0.5778 - val_loss: 1.2386 - val_accuracy: 0.5490\n",
      "Epoch 7/50\n",
      "250/250 [==============================] - 23s 91ms/step - loss: 1.0860 - accuracy: 0.6108 - val_loss: 1.2066 - val_accuracy: 0.5740\n",
      "Epoch 8/50\n",
      "250/250 [==============================] - 23s 92ms/step - loss: 1.0008 - accuracy: 0.6411 - val_loss: 1.1294 - val_accuracy: 0.5905\n",
      "Epoch 9/50\n",
      "250/250 [==============================] - 23s 94ms/step - loss: 0.9048 - accuracy: 0.6766 - val_loss: 1.1669 - val_accuracy: 0.5830\n",
      "Epoch 10/50\n",
      "250/250 [==============================] - 23s 94ms/step - loss: 0.8211 - accuracy: 0.7072 - val_loss: 1.2009 - val_accuracy: 0.5840\n",
      "Epoch 11/50\n",
      "250/250 [==============================] - 23s 92ms/step - loss: 0.7387 - accuracy: 0.7362 - val_loss: 1.2256 - val_accuracy: 0.5935\n",
      "Epoch 12/50\n",
      "250/250 [==============================] - 23s 93ms/step - loss: 0.6901 - accuracy: 0.7544 - val_loss: 1.2552 - val_accuracy: 0.6010\n",
      "Epoch 13/50\n",
      "250/250 [==============================] - 23s 93ms/step - loss: 0.6100 - accuracy: 0.7855 - val_loss: 1.2596 - val_accuracy: 0.5975\n",
      "Epoch 14/50\n",
      "250/250 [==============================] - 23s 93ms/step - loss: 0.5466 - accuracy: 0.8066 - val_loss: 1.2506 - val_accuracy: 0.6120\n",
      "Epoch 15/50\n",
      "250/250 [==============================] - 23s 93ms/step - loss: 0.5058 - accuracy: 0.8198 - val_loss: 1.3384 - val_accuracy: 0.6095\n",
      "Epoch 16/50\n",
      "250/250 [==============================] - 25s 99ms/step - loss: 0.4552 - accuracy: 0.8410 - val_loss: 1.3872 - val_accuracy: 0.5980\n",
      "Epoch 17/50\n",
      "250/250 [==============================] - 23s 94ms/step - loss: 0.4129 - accuracy: 0.8576 - val_loss: 1.5003 - val_accuracy: 0.5855\n",
      "Epoch 18/50\n",
      "250/250 [==============================] - 23s 93ms/step - loss: 0.3870 - accuracy: 0.8624 - val_loss: 1.4827 - val_accuracy: 0.6030\n",
      "Epoch 19/50\n",
      "250/250 [==============================] - 23s 92ms/step - loss: 0.3824 - accuracy: 0.8652 - val_loss: 1.4564 - val_accuracy: 0.5875\n",
      "Epoch 20/50\n",
      "250/250 [==============================] - 23s 91ms/step - loss: 0.3215 - accuracy: 0.8864 - val_loss: 1.5163 - val_accuracy: 0.6070\n",
      "Epoch 21/50\n",
      "250/250 [==============================] - 23s 94ms/step - loss: 0.3188 - accuracy: 0.8874 - val_loss: 1.5993 - val_accuracy: 0.6085\n",
      "Epoch 22/50\n",
      "250/250 [==============================] - 23s 92ms/step - loss: 0.2800 - accuracy: 0.9035 - val_loss: 1.5463 - val_accuracy: 0.6255\n",
      "Epoch 23/50\n",
      "250/250 [==============================] - 23s 94ms/step - loss: 0.2652 - accuracy: 0.9066 - val_loss: 1.6141 - val_accuracy: 0.6160\n",
      "Epoch 24/50\n",
      "  7/250 [..............................] - ETA: 18s - loss: 0.1853 - accuracy: 0.9286"
     ]
    },
    {
     "ename": "KeyboardInterrupt",
     "evalue": "",
     "output_type": "error",
     "traceback": [
      "\u001b[1;31m---------------------------------------------------------------------------\u001b[0m",
      "\u001b[1;31mKeyboardInterrupt\u001b[0m                         Traceback (most recent call last)",
      "\u001b[1;32m<ipython-input-19-ff7870d44282>\u001b[0m in \u001b[0;36m<module>\u001b[1;34m\u001b[0m\n\u001b[1;32m----> 1\u001b[1;33m \u001b[0mtuner_search\u001b[0m\u001b[1;33m.\u001b[0m\u001b[0msearch\u001b[0m\u001b[1;33m(\u001b[0m\u001b[0mx_train\u001b[0m\u001b[1;33m,\u001b[0m \u001b[0my_train\u001b[0m\u001b[1;33m,\u001b[0m \u001b[0mepochs\u001b[0m\u001b[1;33m=\u001b[0m\u001b[1;36m50\u001b[0m\u001b[1;33m,\u001b[0m \u001b[0mvalidation_split\u001b[0m\u001b[1;33m=\u001b[0m\u001b[1;36m0.2\u001b[0m\u001b[1;33m,\u001b[0m \u001b[0mbatch_size\u001b[0m\u001b[1;33m=\u001b[0m\u001b[1;36m32\u001b[0m\u001b[1;33m)\u001b[0m\u001b[1;33m\u001b[0m\u001b[1;33m\u001b[0m\u001b[0m\n\u001b[0m",
      "\u001b[1;32mc:\\users\\jacro\\desktop\\bdml\\env\\lib\\site-packages\\kerastuner\\engine\\base_tuner.py\u001b[0m in \u001b[0;36msearch\u001b[1;34m(self, *fit_args, **fit_kwargs)\u001b[0m\n\u001b[0;32m    129\u001b[0m \u001b[1;33m\u001b[0m\u001b[0m\n\u001b[0;32m    130\u001b[0m             \u001b[0mself\u001b[0m\u001b[1;33m.\u001b[0m\u001b[0mon_trial_begin\u001b[0m\u001b[1;33m(\u001b[0m\u001b[0mtrial\u001b[0m\u001b[1;33m)\u001b[0m\u001b[1;33m\u001b[0m\u001b[1;33m\u001b[0m\u001b[0m\n\u001b[1;32m--> 131\u001b[1;33m             \u001b[0mself\u001b[0m\u001b[1;33m.\u001b[0m\u001b[0mrun_trial\u001b[0m\u001b[1;33m(\u001b[0m\u001b[0mtrial\u001b[0m\u001b[1;33m,\u001b[0m \u001b[1;33m*\u001b[0m\u001b[0mfit_args\u001b[0m\u001b[1;33m,\u001b[0m \u001b[1;33m**\u001b[0m\u001b[0mfit_kwargs\u001b[0m\u001b[1;33m)\u001b[0m\u001b[1;33m\u001b[0m\u001b[1;33m\u001b[0m\u001b[0m\n\u001b[0m\u001b[0;32m    132\u001b[0m             \u001b[0mself\u001b[0m\u001b[1;33m.\u001b[0m\u001b[0mon_trial_end\u001b[0m\u001b[1;33m(\u001b[0m\u001b[0mtrial\u001b[0m\u001b[1;33m)\u001b[0m\u001b[1;33m\u001b[0m\u001b[1;33m\u001b[0m\u001b[0m\n\u001b[0;32m    133\u001b[0m         \u001b[0mself\u001b[0m\u001b[1;33m.\u001b[0m\u001b[0mon_search_end\u001b[0m\u001b[1;33m(\u001b[0m\u001b[1;33m)\u001b[0m\u001b[1;33m\u001b[0m\u001b[1;33m\u001b[0m\u001b[0m\n",
      "\u001b[1;32mc:\\users\\jacro\\desktop\\bdml\\env\\lib\\site-packages\\kerastuner\\engine\\multi_execution_tuner.py\u001b[0m in \u001b[0;36mrun_trial\u001b[1;34m(self, trial, *fit_args, **fit_kwargs)\u001b[0m\n\u001b[0;32m     94\u001b[0m             \u001b[0mcopied_fit_kwargs\u001b[0m\u001b[1;33m[\u001b[0m\u001b[1;34m'callbacks'\u001b[0m\u001b[1;33m]\u001b[0m \u001b[1;33m=\u001b[0m \u001b[0mcallbacks\u001b[0m\u001b[1;33m\u001b[0m\u001b[1;33m\u001b[0m\u001b[0m\n\u001b[0;32m     95\u001b[0m \u001b[1;33m\u001b[0m\u001b[0m\n\u001b[1;32m---> 96\u001b[1;33m             \u001b[0mhistory\u001b[0m \u001b[1;33m=\u001b[0m \u001b[0mself\u001b[0m\u001b[1;33m.\u001b[0m\u001b[0m_build_and_fit_model\u001b[0m\u001b[1;33m(\u001b[0m\u001b[0mtrial\u001b[0m\u001b[1;33m,\u001b[0m \u001b[0mfit_args\u001b[0m\u001b[1;33m,\u001b[0m \u001b[0mcopied_fit_kwargs\u001b[0m\u001b[1;33m)\u001b[0m\u001b[1;33m\u001b[0m\u001b[1;33m\u001b[0m\u001b[0m\n\u001b[0m\u001b[0;32m     97\u001b[0m             \u001b[1;32mfor\u001b[0m \u001b[0mmetric\u001b[0m\u001b[1;33m,\u001b[0m \u001b[0mepoch_values\u001b[0m \u001b[1;32min\u001b[0m \u001b[0mhistory\u001b[0m\u001b[1;33m.\u001b[0m\u001b[0mhistory\u001b[0m\u001b[1;33m.\u001b[0m\u001b[0mitems\u001b[0m\u001b[1;33m(\u001b[0m\u001b[1;33m)\u001b[0m\u001b[1;33m:\u001b[0m\u001b[1;33m\u001b[0m\u001b[1;33m\u001b[0m\u001b[0m\n\u001b[0;32m     98\u001b[0m                 \u001b[1;32mif\u001b[0m \u001b[0mself\u001b[0m\u001b[1;33m.\u001b[0m\u001b[0moracle\u001b[0m\u001b[1;33m.\u001b[0m\u001b[0mobjective\u001b[0m\u001b[1;33m.\u001b[0m\u001b[0mdirection\u001b[0m \u001b[1;33m==\u001b[0m \u001b[1;34m'min'\u001b[0m\u001b[1;33m:\u001b[0m\u001b[1;33m\u001b[0m\u001b[1;33m\u001b[0m\u001b[0m\n",
      "\u001b[1;32mc:\\users\\jacro\\desktop\\bdml\\env\\lib\\site-packages\\kerastuner\\engine\\tuner.py\u001b[0m in \u001b[0;36m_build_and_fit_model\u001b[1;34m(self, trial, fit_args, fit_kwargs)\u001b[0m\n\u001b[0;32m    139\u001b[0m         \"\"\"\n\u001b[0;32m    140\u001b[0m         \u001b[0mmodel\u001b[0m \u001b[1;33m=\u001b[0m \u001b[0mself\u001b[0m\u001b[1;33m.\u001b[0m\u001b[0mhypermodel\u001b[0m\u001b[1;33m.\u001b[0m\u001b[0mbuild\u001b[0m\u001b[1;33m(\u001b[0m\u001b[0mtrial\u001b[0m\u001b[1;33m.\u001b[0m\u001b[0mhyperparameters\u001b[0m\u001b[1;33m)\u001b[0m\u001b[1;33m\u001b[0m\u001b[1;33m\u001b[0m\u001b[0m\n\u001b[1;32m--> 141\u001b[1;33m         \u001b[1;32mreturn\u001b[0m \u001b[0mmodel\u001b[0m\u001b[1;33m.\u001b[0m\u001b[0mfit\u001b[0m\u001b[1;33m(\u001b[0m\u001b[1;33m*\u001b[0m\u001b[0mfit_args\u001b[0m\u001b[1;33m,\u001b[0m \u001b[1;33m**\u001b[0m\u001b[0mfit_kwargs\u001b[0m\u001b[1;33m)\u001b[0m\u001b[1;33m\u001b[0m\u001b[1;33m\u001b[0m\u001b[0m\n\u001b[0m\u001b[0;32m    142\u001b[0m \u001b[1;33m\u001b[0m\u001b[0m\n\u001b[0;32m    143\u001b[0m     \u001b[1;32mdef\u001b[0m \u001b[0mrun_trial\u001b[0m\u001b[1;33m(\u001b[0m\u001b[0mself\u001b[0m\u001b[1;33m,\u001b[0m \u001b[0mtrial\u001b[0m\u001b[1;33m,\u001b[0m \u001b[1;33m*\u001b[0m\u001b[0mfit_args\u001b[0m\u001b[1;33m,\u001b[0m \u001b[1;33m**\u001b[0m\u001b[0mfit_kwargs\u001b[0m\u001b[1;33m)\u001b[0m\u001b[1;33m:\u001b[0m\u001b[1;33m\u001b[0m\u001b[1;33m\u001b[0m\u001b[0m\n",
      "\u001b[1;32mc:\\users\\jacro\\desktop\\bdml\\env\\lib\\site-packages\\tensorflow\\python\\keras\\engine\\training.py\u001b[0m in \u001b[0;36m_method_wrapper\u001b[1;34m(self, *args, **kwargs)\u001b[0m\n\u001b[0;32m    106\u001b[0m   \u001b[1;32mdef\u001b[0m \u001b[0m_method_wrapper\u001b[0m\u001b[1;33m(\u001b[0m\u001b[0mself\u001b[0m\u001b[1;33m,\u001b[0m \u001b[1;33m*\u001b[0m\u001b[0margs\u001b[0m\u001b[1;33m,\u001b[0m \u001b[1;33m**\u001b[0m\u001b[0mkwargs\u001b[0m\u001b[1;33m)\u001b[0m\u001b[1;33m:\u001b[0m\u001b[1;33m\u001b[0m\u001b[1;33m\u001b[0m\u001b[0m\n\u001b[0;32m    107\u001b[0m     \u001b[1;32mif\u001b[0m \u001b[1;32mnot\u001b[0m \u001b[0mself\u001b[0m\u001b[1;33m.\u001b[0m\u001b[0m_in_multi_worker_mode\u001b[0m\u001b[1;33m(\u001b[0m\u001b[1;33m)\u001b[0m\u001b[1;33m:\u001b[0m  \u001b[1;31m# pylint: disable=protected-access\u001b[0m\u001b[1;33m\u001b[0m\u001b[1;33m\u001b[0m\u001b[0m\n\u001b[1;32m--> 108\u001b[1;33m       \u001b[1;32mreturn\u001b[0m \u001b[0mmethod\u001b[0m\u001b[1;33m(\u001b[0m\u001b[0mself\u001b[0m\u001b[1;33m,\u001b[0m \u001b[1;33m*\u001b[0m\u001b[0margs\u001b[0m\u001b[1;33m,\u001b[0m \u001b[1;33m**\u001b[0m\u001b[0mkwargs\u001b[0m\u001b[1;33m)\u001b[0m\u001b[1;33m\u001b[0m\u001b[1;33m\u001b[0m\u001b[0m\n\u001b[0m\u001b[0;32m    109\u001b[0m \u001b[1;33m\u001b[0m\u001b[0m\n\u001b[0;32m    110\u001b[0m     \u001b[1;31m# Running inside `run_distribute_coordinator` already.\u001b[0m\u001b[1;33m\u001b[0m\u001b[1;33m\u001b[0m\u001b[1;33m\u001b[0m\u001b[0m\n",
      "\u001b[1;32mc:\\users\\jacro\\desktop\\bdml\\env\\lib\\site-packages\\tensorflow\\python\\keras\\engine\\training.py\u001b[0m in \u001b[0;36mfit\u001b[1;34m(self, x, y, batch_size, epochs, verbose, callbacks, validation_split, validation_data, shuffle, class_weight, sample_weight, initial_epoch, steps_per_epoch, validation_steps, validation_batch_size, validation_freq, max_queue_size, workers, use_multiprocessing)\u001b[0m\n\u001b[0;32m   1096\u001b[0m                 batch_size=batch_size):\n\u001b[0;32m   1097\u001b[0m               \u001b[0mcallbacks\u001b[0m\u001b[1;33m.\u001b[0m\u001b[0mon_train_batch_begin\u001b[0m\u001b[1;33m(\u001b[0m\u001b[0mstep\u001b[0m\u001b[1;33m)\u001b[0m\u001b[1;33m\u001b[0m\u001b[1;33m\u001b[0m\u001b[0m\n\u001b[1;32m-> 1098\u001b[1;33m               \u001b[0mtmp_logs\u001b[0m \u001b[1;33m=\u001b[0m \u001b[0mtrain_function\u001b[0m\u001b[1;33m(\u001b[0m\u001b[0miterator\u001b[0m\u001b[1;33m)\u001b[0m\u001b[1;33m\u001b[0m\u001b[1;33m\u001b[0m\u001b[0m\n\u001b[0m\u001b[0;32m   1099\u001b[0m               \u001b[1;32mif\u001b[0m \u001b[0mdata_handler\u001b[0m\u001b[1;33m.\u001b[0m\u001b[0mshould_sync\u001b[0m\u001b[1;33m:\u001b[0m\u001b[1;33m\u001b[0m\u001b[1;33m\u001b[0m\u001b[0m\n\u001b[0;32m   1100\u001b[0m                 \u001b[0mcontext\u001b[0m\u001b[1;33m.\u001b[0m\u001b[0masync_wait\u001b[0m\u001b[1;33m(\u001b[0m\u001b[1;33m)\u001b[0m\u001b[1;33m\u001b[0m\u001b[1;33m\u001b[0m\u001b[0m\n",
      "\u001b[1;32mc:\\users\\jacro\\desktop\\bdml\\env\\lib\\site-packages\\tensorflow\\python\\eager\\def_function.py\u001b[0m in \u001b[0;36m__call__\u001b[1;34m(self, *args, **kwds)\u001b[0m\n\u001b[0;32m    778\u001b[0m       \u001b[1;32melse\u001b[0m\u001b[1;33m:\u001b[0m\u001b[1;33m\u001b[0m\u001b[1;33m\u001b[0m\u001b[0m\n\u001b[0;32m    779\u001b[0m         \u001b[0mcompiler\u001b[0m \u001b[1;33m=\u001b[0m \u001b[1;34m\"nonXla\"\u001b[0m\u001b[1;33m\u001b[0m\u001b[1;33m\u001b[0m\u001b[0m\n\u001b[1;32m--> 780\u001b[1;33m         \u001b[0mresult\u001b[0m \u001b[1;33m=\u001b[0m \u001b[0mself\u001b[0m\u001b[1;33m.\u001b[0m\u001b[0m_call\u001b[0m\u001b[1;33m(\u001b[0m\u001b[1;33m*\u001b[0m\u001b[0margs\u001b[0m\u001b[1;33m,\u001b[0m \u001b[1;33m**\u001b[0m\u001b[0mkwds\u001b[0m\u001b[1;33m)\u001b[0m\u001b[1;33m\u001b[0m\u001b[1;33m\u001b[0m\u001b[0m\n\u001b[0m\u001b[0;32m    781\u001b[0m \u001b[1;33m\u001b[0m\u001b[0m\n\u001b[0;32m    782\u001b[0m       \u001b[0mnew_tracing_count\u001b[0m \u001b[1;33m=\u001b[0m \u001b[0mself\u001b[0m\u001b[1;33m.\u001b[0m\u001b[0m_get_tracing_count\u001b[0m\u001b[1;33m(\u001b[0m\u001b[1;33m)\u001b[0m\u001b[1;33m\u001b[0m\u001b[1;33m\u001b[0m\u001b[0m\n",
      "\u001b[1;32mc:\\users\\jacro\\desktop\\bdml\\env\\lib\\site-packages\\tensorflow\\python\\eager\\def_function.py\u001b[0m in \u001b[0;36m_call\u001b[1;34m(self, *args, **kwds)\u001b[0m\n\u001b[0;32m    805\u001b[0m       \u001b[1;31m# In this case we have created variables on the first call, so we run the\u001b[0m\u001b[1;33m\u001b[0m\u001b[1;33m\u001b[0m\u001b[1;33m\u001b[0m\u001b[0m\n\u001b[0;32m    806\u001b[0m       \u001b[1;31m# defunned version which is guaranteed to never create variables.\u001b[0m\u001b[1;33m\u001b[0m\u001b[1;33m\u001b[0m\u001b[1;33m\u001b[0m\u001b[0m\n\u001b[1;32m--> 807\u001b[1;33m       \u001b[1;32mreturn\u001b[0m \u001b[0mself\u001b[0m\u001b[1;33m.\u001b[0m\u001b[0m_stateless_fn\u001b[0m\u001b[1;33m(\u001b[0m\u001b[1;33m*\u001b[0m\u001b[0margs\u001b[0m\u001b[1;33m,\u001b[0m \u001b[1;33m**\u001b[0m\u001b[0mkwds\u001b[0m\u001b[1;33m)\u001b[0m  \u001b[1;31m# pylint: disable=not-callable\u001b[0m\u001b[1;33m\u001b[0m\u001b[1;33m\u001b[0m\u001b[0m\n\u001b[0m\u001b[0;32m    808\u001b[0m     \u001b[1;32melif\u001b[0m \u001b[0mself\u001b[0m\u001b[1;33m.\u001b[0m\u001b[0m_stateful_fn\u001b[0m \u001b[1;32mis\u001b[0m \u001b[1;32mnot\u001b[0m \u001b[1;32mNone\u001b[0m\u001b[1;33m:\u001b[0m\u001b[1;33m\u001b[0m\u001b[1;33m\u001b[0m\u001b[0m\n\u001b[0;32m    809\u001b[0m       \u001b[1;31m# Release the lock early so that multiple threads can perform the call\u001b[0m\u001b[1;33m\u001b[0m\u001b[1;33m\u001b[0m\u001b[1;33m\u001b[0m\u001b[0m\n",
      "\u001b[1;32mc:\\users\\jacro\\desktop\\bdml\\env\\lib\\site-packages\\tensorflow\\python\\eager\\function.py\u001b[0m in \u001b[0;36m__call__\u001b[1;34m(self, *args, **kwargs)\u001b[0m\n\u001b[0;32m   2827\u001b[0m     \u001b[1;32mwith\u001b[0m \u001b[0mself\u001b[0m\u001b[1;33m.\u001b[0m\u001b[0m_lock\u001b[0m\u001b[1;33m:\u001b[0m\u001b[1;33m\u001b[0m\u001b[1;33m\u001b[0m\u001b[0m\n\u001b[0;32m   2828\u001b[0m       \u001b[0mgraph_function\u001b[0m\u001b[1;33m,\u001b[0m \u001b[0margs\u001b[0m\u001b[1;33m,\u001b[0m \u001b[0mkwargs\u001b[0m \u001b[1;33m=\u001b[0m \u001b[0mself\u001b[0m\u001b[1;33m.\u001b[0m\u001b[0m_maybe_define_function\u001b[0m\u001b[1;33m(\u001b[0m\u001b[0margs\u001b[0m\u001b[1;33m,\u001b[0m \u001b[0mkwargs\u001b[0m\u001b[1;33m)\u001b[0m\u001b[1;33m\u001b[0m\u001b[1;33m\u001b[0m\u001b[0m\n\u001b[1;32m-> 2829\u001b[1;33m     \u001b[1;32mreturn\u001b[0m \u001b[0mgraph_function\u001b[0m\u001b[1;33m.\u001b[0m\u001b[0m_filtered_call\u001b[0m\u001b[1;33m(\u001b[0m\u001b[0margs\u001b[0m\u001b[1;33m,\u001b[0m \u001b[0mkwargs\u001b[0m\u001b[1;33m)\u001b[0m  \u001b[1;31m# pylint: disable=protected-access\u001b[0m\u001b[1;33m\u001b[0m\u001b[1;33m\u001b[0m\u001b[0m\n\u001b[0m\u001b[0;32m   2830\u001b[0m \u001b[1;33m\u001b[0m\u001b[0m\n\u001b[0;32m   2831\u001b[0m   \u001b[1;33m@\u001b[0m\u001b[0mproperty\u001b[0m\u001b[1;33m\u001b[0m\u001b[1;33m\u001b[0m\u001b[0m\n",
      "\u001b[1;32mc:\\users\\jacro\\desktop\\bdml\\env\\lib\\site-packages\\tensorflow\\python\\eager\\function.py\u001b[0m in \u001b[0;36m_filtered_call\u001b[1;34m(self, args, kwargs, cancellation_manager)\u001b[0m\n\u001b[0;32m   1841\u001b[0m       \u001b[0;31m`\u001b[0m\u001b[0margs\u001b[0m\u001b[0;31m`\u001b[0m \u001b[1;32mand\u001b[0m\u001b[0;31m \u001b[0m\u001b[0;31m`\u001b[0m\u001b[0mkwargs\u001b[0m\u001b[0;31m`\u001b[0m\u001b[1;33m.\u001b[0m\u001b[1;33m\u001b[0m\u001b[1;33m\u001b[0m\u001b[0m\n\u001b[0;32m   1842\u001b[0m     \"\"\"\n\u001b[1;32m-> 1843\u001b[1;33m     return self._call_flat(\n\u001b[0m\u001b[0;32m   1844\u001b[0m         [t for t in nest.flatten((args, kwargs), expand_composites=True)\n\u001b[0;32m   1845\u001b[0m          if isinstance(t, (ops.Tensor,\n",
      "\u001b[1;32mc:\\users\\jacro\\desktop\\bdml\\env\\lib\\site-packages\\tensorflow\\python\\eager\\function.py\u001b[0m in \u001b[0;36m_call_flat\u001b[1;34m(self, args, captured_inputs, cancellation_manager)\u001b[0m\n\u001b[0;32m   1921\u001b[0m         and executing_eagerly):\n\u001b[0;32m   1922\u001b[0m       \u001b[1;31m# No tape is watching; skip to running the function.\u001b[0m\u001b[1;33m\u001b[0m\u001b[1;33m\u001b[0m\u001b[1;33m\u001b[0m\u001b[0m\n\u001b[1;32m-> 1923\u001b[1;33m       return self._build_call_outputs(self._inference_function.call(\n\u001b[0m\u001b[0;32m   1924\u001b[0m           ctx, args, cancellation_manager=cancellation_manager))\n\u001b[0;32m   1925\u001b[0m     forward_backward = self._select_forward_and_backward_functions(\n",
      "\u001b[1;32mc:\\users\\jacro\\desktop\\bdml\\env\\lib\\site-packages\\tensorflow\\python\\eager\\function.py\u001b[0m in \u001b[0;36mcall\u001b[1;34m(self, ctx, args, cancellation_manager)\u001b[0m\n\u001b[0;32m    543\u001b[0m       \u001b[1;32mwith\u001b[0m \u001b[0m_InterpolateFunctionError\u001b[0m\u001b[1;33m(\u001b[0m\u001b[0mself\u001b[0m\u001b[1;33m)\u001b[0m\u001b[1;33m:\u001b[0m\u001b[1;33m\u001b[0m\u001b[1;33m\u001b[0m\u001b[0m\n\u001b[0;32m    544\u001b[0m         \u001b[1;32mif\u001b[0m \u001b[0mcancellation_manager\u001b[0m \u001b[1;32mis\u001b[0m \u001b[1;32mNone\u001b[0m\u001b[1;33m:\u001b[0m\u001b[1;33m\u001b[0m\u001b[1;33m\u001b[0m\u001b[0m\n\u001b[1;32m--> 545\u001b[1;33m           outputs = execute.execute(\n\u001b[0m\u001b[0;32m    546\u001b[0m               \u001b[0mstr\u001b[0m\u001b[1;33m(\u001b[0m\u001b[0mself\u001b[0m\u001b[1;33m.\u001b[0m\u001b[0msignature\u001b[0m\u001b[1;33m.\u001b[0m\u001b[0mname\u001b[0m\u001b[1;33m)\u001b[0m\u001b[1;33m,\u001b[0m\u001b[1;33m\u001b[0m\u001b[1;33m\u001b[0m\u001b[0m\n\u001b[0;32m    547\u001b[0m               \u001b[0mnum_outputs\u001b[0m\u001b[1;33m=\u001b[0m\u001b[0mself\u001b[0m\u001b[1;33m.\u001b[0m\u001b[0m_num_outputs\u001b[0m\u001b[1;33m,\u001b[0m\u001b[1;33m\u001b[0m\u001b[1;33m\u001b[0m\u001b[0m\n",
      "\u001b[1;32mc:\\users\\jacro\\desktop\\bdml\\env\\lib\\site-packages\\tensorflow\\python\\eager\\execute.py\u001b[0m in \u001b[0;36mquick_execute\u001b[1;34m(op_name, num_outputs, inputs, attrs, ctx, name)\u001b[0m\n\u001b[0;32m     57\u001b[0m   \u001b[1;32mtry\u001b[0m\u001b[1;33m:\u001b[0m\u001b[1;33m\u001b[0m\u001b[1;33m\u001b[0m\u001b[0m\n\u001b[0;32m     58\u001b[0m     \u001b[0mctx\u001b[0m\u001b[1;33m.\u001b[0m\u001b[0mensure_initialized\u001b[0m\u001b[1;33m(\u001b[0m\u001b[1;33m)\u001b[0m\u001b[1;33m\u001b[0m\u001b[1;33m\u001b[0m\u001b[0m\n\u001b[1;32m---> 59\u001b[1;33m     tensors = pywrap_tfe.TFE_Py_Execute(ctx._handle, device_name, op_name,\n\u001b[0m\u001b[0;32m     60\u001b[0m                                         inputs, attrs, num_outputs)\n\u001b[0;32m     61\u001b[0m   \u001b[1;32mexcept\u001b[0m \u001b[0mcore\u001b[0m\u001b[1;33m.\u001b[0m\u001b[0m_NotOkStatusException\u001b[0m \u001b[1;32mas\u001b[0m \u001b[0me\u001b[0m\u001b[1;33m:\u001b[0m\u001b[1;33m\u001b[0m\u001b[1;33m\u001b[0m\u001b[0m\n",
      "\u001b[1;31mKeyboardInterrupt\u001b[0m: "
     ]
    }
   ],
   "source": [
    "tuner_search.search(x_train, y_train, epochs=50, validation_split=0.2, batch_size=32)"
   ]
  },
  {
   "cell_type": "code",
   "execution_count": 20,
   "metadata": {},
   "outputs": [
    {
     "name": "stdout",
     "output_type": "stream",
     "text": [
      "Results summary\n",
      "Results in random_search\\cifar10\n",
      "Showing 10 best trials\n",
      "Objective(name='val_accuracy', direction='max')\n",
      "Trial summary\n",
      "Hyperparameters:\n",
      "input_units: 128\n",
      "dropout_1: 0.25\n",
      "n_layers: 2\n",
      "conv_0_units: 224\n",
      "n_connections: 3\n",
      "n_nodes: 256\n",
      "conv_1_units: 192\n",
      "conv_2_units: 128\n",
      "conv_3_units: 96\n",
      "dropout_2: 0.45\n",
      "Score: 0.6277499794960022\n",
      "Trial summary\n",
      "Hyperparameters:\n",
      "input_units: 128\n",
      "dropout_1: 0.1\n",
      "n_layers: 1\n",
      "conv_0_units: 160\n",
      "n_connections: 1\n",
      "n_nodes: 1024\n",
      "conv_1_units: 160\n",
      "conv_2_units: 128\n",
      "conv_3_units: 160\n",
      "dropout_2: 0.2\n",
      "Score: 0.6227499842643738\n",
      "Trial summary\n",
      "Hyperparameters:\n",
      "input_units: 128\n",
      "dropout_1: 0.4\n",
      "n_layers: 1\n",
      "conv_0_units: 160\n",
      "n_connections: 2\n",
      "n_nodes: 128\n",
      "conv_1_units: 128\n",
      "conv_2_units: 128\n",
      "conv_3_units: 256\n",
      "dropout_2: 0.25\n",
      "Score: 0.6220000088214874\n",
      "Trial summary\n",
      "Hyperparameters:\n",
      "input_units: 64\n",
      "dropout_1: 0.45\n",
      "n_layers: 1\n",
      "conv_0_units: 256\n",
      "n_connections: 2\n",
      "n_nodes: 128\n",
      "Score: 0.6189999878406525\n",
      "Trial summary\n",
      "Hyperparameters:\n",
      "input_units: 64\n",
      "dropout_1: 0.05\n",
      "n_layers: 1\n",
      "conv_0_units: 224\n",
      "n_connections: 2\n",
      "n_nodes: 128\n",
      "conv_1_units: 96\n",
      "conv_2_units: 160\n",
      "conv_3_units: 64\n",
      "dropout_2: 0.1\n",
      "Score: 0.6154999732971191\n",
      "Trial summary\n",
      "Hyperparameters:\n",
      "input_units: 192\n",
      "dropout_1: 0.05\n",
      "n_layers: 1\n",
      "conv_0_units: 128\n",
      "n_connections: 4\n",
      "n_nodes: 128\n",
      "conv_1_units: 224\n",
      "conv_2_units: 160\n",
      "conv_3_units: 224\n",
      "dropout_2: 0.2\n",
      "Score: 0.6107500195503235\n",
      "Trial summary\n",
      "Hyperparameters:\n",
      "input_units: 64\n",
      "dropout_1: 0.45\n",
      "n_layers: 2\n",
      "conv_0_units: 128\n",
      "n_connections: 2\n",
      "n_nodes: 128\n",
      "conv_1_units: 64\n",
      "conv_2_units: 96\n",
      "conv_3_units: 256\n",
      "dropout_2: 0.30000000000000004\n",
      "Score: 0.6095000207424164\n",
      "Trial summary\n",
      "Hyperparameters:\n",
      "input_units: 224\n",
      "dropout_1: 0.1\n",
      "n_layers: 2\n",
      "conv_0_units: 256\n",
      "n_connections: 3\n",
      "n_nodes: 256\n",
      "conv_1_units: 64\n",
      "conv_2_units: 224\n",
      "conv_3_units: 160\n",
      "dropout_2: 0.30000000000000004\n",
      "Score: 0.6085000038146973\n",
      "Trial summary\n",
      "Hyperparameters:\n",
      "input_units: 256\n",
      "dropout_1: 0.25\n",
      "n_layers: 1\n",
      "conv_0_units: 128\n",
      "n_connections: 2\n",
      "n_nodes: 128\n",
      "conv_1_units: 256\n",
      "conv_2_units: 128\n",
      "conv_3_units: 32\n",
      "dropout_2: 0.35000000000000003\n",
      "Score: 0.6080000102519989\n",
      "Trial summary\n",
      "Hyperparameters:\n",
      "input_units: 96\n",
      "dropout_1: 0.1\n",
      "n_layers: 1\n",
      "conv_0_units: 192\n",
      "n_connections: 2\n",
      "n_nodes: 128\n",
      "conv_1_units: 96\n",
      "conv_2_units: 96\n",
      "conv_3_units: 96\n",
      "dropout_2: 0.0\n",
      "Score: 0.6079999804496765\n",
      "WARNING:tensorflow:Inconsistent references when loading the checkpoint into this object graph. Either the Trackable object references in the Python program have changed in an incompatible way, or the checkpoint was generated in an incompatible program.\n",
      "\n",
      "Two checkpoint references resolved to different objects (<tensorflow.python.keras.layers.convolutional.Conv2D object at 0x0000022A5EE54040> and <tensorflow.python.keras.layers.core.Activation object at 0x0000022A5EAEE550>).\n",
      "WARNING:tensorflow:Inconsistent references when loading the checkpoint into this object graph. Either the Trackable object references in the Python program have changed in an incompatible way, or the checkpoint was generated in an incompatible program.\n",
      "\n",
      "Two checkpoint references resolved to different objects (<tensorflow.python.keras.layers.convolutional.Conv2D object at 0x0000022A5EDE7790> and <tensorflow.python.keras.layers.core.Activation object at 0x0000022A5ECB0130>).\n",
      "WARNING:tensorflow:Inconsistent references when loading the checkpoint into this object graph. Either the Trackable object references in the Python program have changed in an incompatible way, or the checkpoint was generated in an incompatible program.\n",
      "\n",
      "Two checkpoint references resolved to different objects (<tensorflow.python.keras.layers.core.Dense object at 0x0000022A5DC2D670> and <tensorflow.python.keras.layers.core.Dense object at 0x0000022A5EE26D90>).\n",
      "WARNING:tensorflow:Inconsistent references when loading the checkpoint into this object graph. Either the Trackable object references in the Python program have changed in an incompatible way, or the checkpoint was generated in an incompatible program.\n",
      "\n",
      "Two checkpoint references resolved to different objects (<tensorflow.python.keras.layers.core.Dense object at 0x0000022A5EE26D90> and <tensorflow.python.keras.layers.core.Dense object at 0x0000022A5DE61580>).\n",
      "WARNING:tensorflow:Inconsistent references when loading the checkpoint into this object graph. Either the Trackable object references in the Python program have changed in an incompatible way, or the checkpoint was generated in an incompatible program.\n",
      "\n",
      "Two checkpoint references resolved to different objects (<tensorflow.python.keras.layers.core.Dense object at 0x0000022A5DE61580> and <tensorflow.python.keras.layers.core.Dense object at 0x0000022A5D5B2610>).\n"
     ]
    }
   ],
   "source": [
    "tuner_search.results_summary()\n",
    "tuned_model=tuner_search.get_best_models(num_models=1)[0]"
   ]
  },
  {
   "cell_type": "code",
   "execution_count": 21,
   "metadata": {},
   "outputs": [
    {
     "name": "stdout",
     "output_type": "stream",
     "text": [
      "Model: \"sequential\"\n",
      "_________________________________________________________________\n",
      "Layer (type)                 Output Shape              Param #   \n",
      "=================================================================\n",
      "conv2d (Conv2D)              (None, 30, 30, 128)       3584      \n",
      "_________________________________________________________________\n",
      "activation (Activation)      (None, 30, 30, 128)       0         \n",
      "_________________________________________________________________\n",
      "max_pooling2d (MaxPooling2D) (None, 15, 15, 128)       0         \n",
      "_________________________________________________________________\n",
      "conv2d_1 (Conv2D)            (None, 13, 13, 224)       258272    \n",
      "_________________________________________________________________\n",
      "activation_1 (Activation)    (None, 13, 13, 224)       0         \n",
      "_________________________________________________________________\n",
      "conv2d_2 (Conv2D)            (None, 11, 11, 192)       387264    \n",
      "_________________________________________________________________\n",
      "activation_2 (Activation)    (None, 11, 11, 192)       0         \n",
      "_________________________________________________________________\n",
      "max_pooling2d_1 (MaxPooling2 (None, 5, 5, 192)         0         \n",
      "_________________________________________________________________\n",
      "flatten (Flatten)            (None, 4800)              0         \n",
      "_________________________________________________________________\n",
      "dense (Dense)                (None, 256)               1229056   \n",
      "_________________________________________________________________\n",
      "activation_3 (Activation)    (None, 256)               0         \n",
      "_________________________________________________________________\n",
      "dense_1 (Dense)              (None, 256)               65792     \n",
      "_________________________________________________________________\n",
      "activation_4 (Activation)    (None, 256)               0         \n",
      "_________________________________________________________________\n",
      "dense_2 (Dense)              (None, 256)               65792     \n",
      "_________________________________________________________________\n",
      "activation_5 (Activation)    (None, 256)               0         \n",
      "_________________________________________________________________\n",
      "dense_3 (Dense)              (None, 10)                2570      \n",
      "_________________________________________________________________\n",
      "activation_6 (Activation)    (None, 10)                0         \n",
      "=================================================================\n",
      "Total params: 2,012,330\n",
      "Trainable params: 2,012,330\n",
      "Non-trainable params: 0\n",
      "_________________________________________________________________\n"
     ]
    }
   ],
   "source": [
    "tuned_model.summary()"
   ]
  },
  {
   "cell_type": "code",
   "execution_count": 22,
   "metadata": {},
   "outputs": [
    {
     "name": "stdout",
     "output_type": "stream",
     "text": [
      "loss: 2.095872640609741\n",
      "accuracy: 0.5910000205039978\n"
     ]
    }
   ],
   "source": [
    "loss, accuracy = tuned_model.evaluate(x_test,y_test, verbose = 0)\n",
    "print('loss:', loss)\n",
    "print('accuracy:', accuracy)\n"
   ]
  },
  {
   "cell_type": "code",
   "execution_count": 23,
   "metadata": {},
   "outputs": [
    {
     "name": "stdout",
     "output_type": "stream",
     "text": [
      "WARNING:tensorflow:From c:\\users\\jacro\\desktop\\bdml\\env\\lib\\site-packages\\tensorflow\\python\\training\\tracking\\tracking.py:111: Model.state_updates (from tensorflow.python.keras.engine.training) is deprecated and will be removed in a future version.\n",
      "Instructions for updating:\n",
      "This property should not be used in TensorFlow 2.0, as updates are applied automatically.\n",
      "WARNING:tensorflow:From c:\\users\\jacro\\desktop\\bdml\\env\\lib\\site-packages\\tensorflow\\python\\training\\tracking\\tracking.py:111: Layer.updates (from tensorflow.python.keras.engine.base_layer) is deprecated and will be removed in a future version.\n",
      "Instructions for updating:\n",
      "This property should not be used in TensorFlow 2.0, as updates are applied automatically.\n",
      "INFO:tensorflow:Assets written to: best_modelv2\\assets\n"
     ]
    }
   ],
   "source": [
    "tuned_model.save('best_modelv2')\n",
    "    #load model back in\n",
    "  #  model = keras.models.load_model('savedModel')"
   ]
  },
  {
   "cell_type": "markdown",
   "metadata": {},
   "source": [
    "## Reload Saved Model"
   ]
  },
  {
   "cell_type": "code",
   "execution_count": 35,
   "metadata": {},
   "outputs": [],
   "source": [
    "tuned_model = keras.models.load_model('best_modelv2') #load model, however I decided to reinstantiate the model\n"
   ]
  },
  {
   "cell_type": "code",
   "execution_count": 13,
   "metadata": {},
   "outputs": [],
   "source": [
    "\n",
    "tuned_model = tf.keras.Sequential(layers=[\n",
    "    #First Layer\n",
    "    tf.keras.layers.Conv2D(256, (3, 3), padding='same', activation='relu', input_shape=(height, width, colour)),\n",
    "    tf.keras.layers.Conv2D(256, (3, 3), padding='same'),\n",
    "    tf.keras.layers.MaxPooling2D(pool_size=(2, 2)),\n",
    "    tf.keras.layers.Dropout(0.25),\n",
    "    #Second Layer\n",
    "    tf.keras.layers.Conv2D(512, (3, 3), padding='same', activation='relu'),\n",
    "    tf.keras.layers.Conv2D(512, (3, 3), padding='same'),\n",
    "    tf.keras.layers.MaxPooling2D(pool_size=(2, 2)),\n",
    "    tf.keras.layers.Dropout(0.45),\n",
    "    #Third Layer\n",
    "    tf.keras.layers.Conv2D(1024, (3, 3), padding='same',activation='relu'),\n",
    "    tf.keras.layers.Conv2D(1024, (3, 3), padding='same',activation='relu'),\n",
    "    tf.keras.layers.MaxPooling2D((2, 2)),\n",
    "    tf.keras.layers.Dropout(0.5),\n",
    "    \n",
    "    #flatten\n",
    "    tf.keras.layers.Flatten(),\n",
    "    tf.keras.layers.Dense(1024,activation='relu'),\n",
    "    \n",
    "    tf.keras.layers.Dropout(0.5),\n",
    "    tf.keras.layers.Dense(10,activation='softmax')\n",
    "    #Dense Layer\n",
    "    \n",
    "   \n",
    "])"
   ]
  },
  {
   "cell_type": "code",
   "execution_count": 14,
   "metadata": {},
   "outputs": [],
   "source": [
    "tuned_model.compile(optimizer=tf.keras.optimizers.Adam(0.001), \n",
    "              loss=tf.keras.losses.CategoricalCrossentropy(), \n",
    "              metrics=tf.keras.metrics.CategoricalAccuracy())"
   ]
  },
  {
   "cell_type": "code",
   "execution_count": null,
   "metadata": {},
   "outputs": [
    {
     "name": "stdout",
     "output_type": "stream",
     "text": [
      "Epoch 1/100\n",
      " 24/125 [====>.........................] - ETA: 5:20 - loss: 2.3115 - categorical_accuracy: 0.1035"
     ]
    }
   ],
   "source": [
    "history = tuned_model.fit(x_train,y_train,epochs=100,\n",
    "         validation_split=0.2,batch_size=64, verbose = 1)"
   ]
  },
  {
   "cell_type": "code",
   "execution_count": null,
   "metadata": {},
   "outputs": [],
   "source": [
    "plt.figure(figsize=[10,5])\n",
    "plt.subplot(121)\n",
    "plt.plot(history.history['categorical_accuracy'])\n",
    "plt.plot(history.history['val_categorical_accuracy'])\n",
    "plt.xlabel('Epoch')\n",
    "plt.ylabel('Accuracy')\n",
    "plt.legend(['Training Accuracy',\n",
    "           'Validation Accuracy'])\n",
    "plt.title('Accuracy Curves')\n",
    "\n",
    "plt.subplot(122)\n",
    "plt.plot(history.history['loss'])\n",
    "plt.plot(history.history['val_loss'])\n",
    "plt.xlabel('Epoch')\n",
    "plt.ylabel('Loss')\n",
    "plt.legend(['Training Loss',\n",
    "           'Validation Loss'])\n",
    "plt.title('Loss Curves')\n",
    "plt.show()"
   ]
  },
  {
   "cell_type": "code",
   "execution_count": 30,
   "metadata": {},
   "outputs": [
    {
     "name": "stdout",
     "output_type": "stream",
     "text": [
      "Test Set loss: 1.6250972747802734\n",
      "Test Set accuracy: 0.6079999804496765\n"
     ]
    }
   ],
   "source": [
    "\n",
    "loss, accuracy = tuned_model.evaluate(x_test, y_test, verbose = 0)\n",
    "print('Test Set loss:', loss)\n",
    "print('Test Set accuracy:', accuracy)\n"
   ]
  },
  {
   "cell_type": "code",
   "execution_count": null,
   "metadata": {},
   "outputs": [],
   "source": []
  },
  {
   "cell_type": "markdown",
   "metadata": {},
   "source": [
    "## Tuned Model Is Selected For Confusion Matrix"
   ]
  },
  {
   "cell_type": "code",
   "execution_count": 167,
   "metadata": {},
   "outputs": [
    {
     "ename": "ValueError",
     "evalue": "Classification metrics can't handle a mix of multilabel-indicator and continuous-multioutput targets",
     "output_type": "error",
     "traceback": [
      "\u001b[1;31m---------------------------------------------------------------------------\u001b[0m",
      "\u001b[1;31mValueError\u001b[0m                                Traceback (most recent call last)",
      "\u001b[1;32m<ipython-input-167-902997930fdb>\u001b[0m in \u001b[0;36m<module>\u001b[1;34m\u001b[0m\n\u001b[1;32m----> 1\u001b[1;33m \u001b[0mconfusion_matrix\u001b[0m \u001b[1;33m=\u001b[0m \u001b[0mmetrics\u001b[0m\u001b[1;33m.\u001b[0m\u001b[0mconfusion_matrix\u001b[0m\u001b[1;33m(\u001b[0m\u001b[0my_test\u001b[0m\u001b[1;33m,\u001b[0m \u001b[0mtuned_model\u001b[0m\u001b[1;33m.\u001b[0m\u001b[0mpredict\u001b[0m\u001b[1;33m(\u001b[0m\u001b[0mx_test\u001b[0m\u001b[1;33m)\u001b[0m\u001b[1;33m)\u001b[0m\u001b[1;33m\u001b[0m\u001b[1;33m\u001b[0m\u001b[0m\n\u001b[0m\u001b[0;32m      2\u001b[0m \u001b[0mplt\u001b[0m\u001b[1;33m.\u001b[0m\u001b[0mfigure\u001b[0m\u001b[1;33m(\u001b[0m\u001b[1;33m)\u001b[0m\u001b[1;33m\u001b[0m\u001b[1;33m\u001b[0m\u001b[0m\n",
      "\u001b[1;32mc:\\users\\jacro\\desktop\\bdml\\env\\lib\\site-packages\\sklearn\\utils\\validation.py\u001b[0m in \u001b[0;36minner_f\u001b[1;34m(*args, **kwargs)\u001b[0m\n\u001b[0;32m     70\u001b[0m                           FutureWarning)\n\u001b[0;32m     71\u001b[0m         \u001b[0mkwargs\u001b[0m\u001b[1;33m.\u001b[0m\u001b[0mupdate\u001b[0m\u001b[1;33m(\u001b[0m\u001b[1;33m{\u001b[0m\u001b[0mk\u001b[0m\u001b[1;33m:\u001b[0m \u001b[0marg\u001b[0m \u001b[1;32mfor\u001b[0m \u001b[0mk\u001b[0m\u001b[1;33m,\u001b[0m \u001b[0marg\u001b[0m \u001b[1;32min\u001b[0m \u001b[0mzip\u001b[0m\u001b[1;33m(\u001b[0m\u001b[0msig\u001b[0m\u001b[1;33m.\u001b[0m\u001b[0mparameters\u001b[0m\u001b[1;33m,\u001b[0m \u001b[0margs\u001b[0m\u001b[1;33m)\u001b[0m\u001b[1;33m}\u001b[0m\u001b[1;33m)\u001b[0m\u001b[1;33m\u001b[0m\u001b[1;33m\u001b[0m\u001b[0m\n\u001b[1;32m---> 72\u001b[1;33m         \u001b[1;32mreturn\u001b[0m \u001b[0mf\u001b[0m\u001b[1;33m(\u001b[0m\u001b[1;33m**\u001b[0m\u001b[0mkwargs\u001b[0m\u001b[1;33m)\u001b[0m\u001b[1;33m\u001b[0m\u001b[1;33m\u001b[0m\u001b[0m\n\u001b[0m\u001b[0;32m     73\u001b[0m     \u001b[1;32mreturn\u001b[0m \u001b[0minner_f\u001b[0m\u001b[1;33m\u001b[0m\u001b[1;33m\u001b[0m\u001b[0m\n\u001b[0;32m     74\u001b[0m \u001b[1;33m\u001b[0m\u001b[0m\n",
      "\u001b[1;32mc:\\users\\jacro\\desktop\\bdml\\env\\lib\\site-packages\\sklearn\\metrics\\_classification.py\u001b[0m in \u001b[0;36mconfusion_matrix\u001b[1;34m(y_true, y_pred, labels, sample_weight, normalize)\u001b[0m\n\u001b[0;32m    274\u001b[0m \u001b[1;33m\u001b[0m\u001b[0m\n\u001b[0;32m    275\u001b[0m     \"\"\"\n\u001b[1;32m--> 276\u001b[1;33m     \u001b[0my_type\u001b[0m\u001b[1;33m,\u001b[0m \u001b[0my_true\u001b[0m\u001b[1;33m,\u001b[0m \u001b[0my_pred\u001b[0m \u001b[1;33m=\u001b[0m \u001b[0m_check_targets\u001b[0m\u001b[1;33m(\u001b[0m\u001b[0my_true\u001b[0m\u001b[1;33m,\u001b[0m \u001b[0my_pred\u001b[0m\u001b[1;33m)\u001b[0m\u001b[1;33m\u001b[0m\u001b[1;33m\u001b[0m\u001b[0m\n\u001b[0m\u001b[0;32m    277\u001b[0m     \u001b[1;32mif\u001b[0m \u001b[0my_type\u001b[0m \u001b[1;32mnot\u001b[0m \u001b[1;32min\u001b[0m \u001b[1;33m(\u001b[0m\u001b[1;34m\"binary\"\u001b[0m\u001b[1;33m,\u001b[0m \u001b[1;34m\"multiclass\"\u001b[0m\u001b[1;33m)\u001b[0m\u001b[1;33m:\u001b[0m\u001b[1;33m\u001b[0m\u001b[1;33m\u001b[0m\u001b[0m\n\u001b[0;32m    278\u001b[0m         \u001b[1;32mraise\u001b[0m \u001b[0mValueError\u001b[0m\u001b[1;33m(\u001b[0m\u001b[1;34m\"%s is not supported\"\u001b[0m \u001b[1;33m%\u001b[0m \u001b[0my_type\u001b[0m\u001b[1;33m)\u001b[0m\u001b[1;33m\u001b[0m\u001b[1;33m\u001b[0m\u001b[0m\n",
      "\u001b[1;32mc:\\users\\jacro\\desktop\\bdml\\env\\lib\\site-packages\\sklearn\\metrics\\_classification.py\u001b[0m in \u001b[0;36m_check_targets\u001b[1;34m(y_true, y_pred)\u001b[0m\n\u001b[0;32m     88\u001b[0m \u001b[1;33m\u001b[0m\u001b[0m\n\u001b[0;32m     89\u001b[0m     \u001b[1;32mif\u001b[0m \u001b[0mlen\u001b[0m\u001b[1;33m(\u001b[0m\u001b[0my_type\u001b[0m\u001b[1;33m)\u001b[0m \u001b[1;33m>\u001b[0m \u001b[1;36m1\u001b[0m\u001b[1;33m:\u001b[0m\u001b[1;33m\u001b[0m\u001b[1;33m\u001b[0m\u001b[0m\n\u001b[1;32m---> 90\u001b[1;33m         raise ValueError(\"Classification metrics can't handle a mix of {0} \"\n\u001b[0m\u001b[0;32m     91\u001b[0m                          \"and {1} targets\".format(type_true, type_pred))\n\u001b[0;32m     92\u001b[0m \u001b[1;33m\u001b[0m\u001b[0m\n",
      "\u001b[1;31mValueError\u001b[0m: Classification metrics can't handle a mix of multilabel-indicator and continuous-multioutput targets"
     ]
    }
   ],
   "source": [
    "confusion_matrix = metrics.confusion_matrix(y_test, tuned_model.predict(x_test))\n",
    "plt.figure()"
   ]
  },
  {
   "cell_type": "code",
   "execution_count": 151,
   "metadata": {},
   "outputs": [
    {
     "name": "stdout",
     "output_type": "stream",
     "text": [
      "[0 1 8 0 0 0 8 0 0 0 0 1 0 0 8 4 0 0 0 0 0 2 1 0 3 0 0 7 0 0 2 0 8 0 0 0 0\n",
      " 0 8 0 0 0 8 8 0 8 8 0 0 0 0 2 5 1 0 0 0 9 0 0 8 9 0 0 0 0 1 0 0 8 3 0 9 9\n",
      " 8 0 0 0 0 0 7 1 0 0 2 0 9 0 0 0 8 0 0 0 0 0 0 0 0 0 1 1 1 1 1 1 1 1 1 1 1\n",
      " 0 1 8 1 7 1 1 1 2 1 8 1 1 9 9 1 1 1 1 8 1 1 1 1 1 1 1 1 1 1 1 8 1 1 1 2 1\n",
      " 1 1 1 1 1 2 1 1 9 1 9 1 0 9 1 1 4 1 1 1 1 1 1 1 1 1 1 1 1 1 1 1 8 0 1 1 1\n",
      " 1 1 1 1 1 8 1 1 1 1 1 1 1 1 1 2 6 6 7 2 4 4 2 2 4 0 0 4 6 2 4 0 2 4 2 2 2\n",
      " 2 5 0 2 4 4 2 5 6 3 2 4 2 9 5 2 2 2 2 6 2 2 2 4 2 3 2 2 3 2 2 5 2 3 4 9 5\n",
      " 4 2 4 1 3 2 5 5 4 2 0 2 5 5 2 6 2 2 3 3 2 2 0 2 5 2 2 2 6 4 2 9 2 3 4 5 0\n",
      " 0 5 7 3 3 5 5 3 4 5 3 7 3 3 4 5 3 5 9 5 3 5 5 3 3 3 5 3 5 5 3 3 5 3 3 3 5\n",
      " 2 2 4 3 3 3 3 1 2 3 5 3 3 5 4 3 6 2 3 3 0 5 5 0 3 6 5 4 7 1 5 3 4 5 3 3 2\n",
      " 3 0 3 3 3 6 3 3 7 0 5 3 3 3 5 4 3 5 2 4 3 2 3 3 3 5 3 3 3 3 4 4 6 4 2 4 4\n",
      " 3 3 4 5 4 4 4 4 6 3 2 9 4 7 4 4 7 5 4 4 4 4 3 3 2 4 2 4 9 3 4 7 4 4 4 4 4\n",
      " 4 3 4 8 4 6 4 4 3 4 4 4 4 4 4 4 4 6 4 4 4 3 4 6 6 4 4 4 4 2 7 1 2 4 4 4 4\n",
      " 2 0 3 4 4 4 5 2 4 3 4 4 6 2 4 4 4 4 4 4 3 5 3 4 3 3 6 5 5 2 4 2 5 5 3 5 2\n",
      " 5 5 5 5 2 5 5 3 5 3 5 3 5 5 5 5 5 2 5 2 3 5 3 5 5 5 5 5 5 5 5 5 5 3 5 4 5\n",
      " 5 5 5 5 5 5 5 5 6 3 5 5 5 5 5 4 5 5 5 5 8 5 3 3 2 7 5 5 5 7 5 4 7 2 5 2 5\n",
      " 5 3 9 5 5 3 3 3 6 2 2 6 6 6 6 6 6 6 3 6 4 3 6 6 1 6 6 6 6 6 1 6 6 6 6 6 6\n",
      " 4 6 6 6 3 6 3 6 3 1 6 8 6 6 6 6 6 5 6 2 6 3 6 7 6 6 6 6 6 9 4 6 2 3 6 6 6\n",
      " 3 6 6 6 6 6 6 6 6 6 6 4 4 6 6 2 3 6 6 6 6 6 2 6 6 6 6 3 6 6 6 6 2 6 7 7 5\n",
      " 3 7 7 7 7 9 7 4 4 3 7 7 7 7 7 7 5 5 7 7 7 2 7 3 8 5 7 4 4 7 7 7 7 7 7 7 7\n",
      " 3 7 5 7 7 7 3 8 7 5 4 7 4 3 9 7 5 7 9 7 4 4 7 3 7 7 7 7 7 4 7 5 7 5 5 0 5\n",
      " 7 7 7 7 7 4 7 3 5 2 4 5 3 7 7 7 7 7 7 7 5 7 7 8 8 8 8 8 2 8 0 8 8 8 8 0 8\n",
      " 1 8 9 8 8 8 2 3 8 0 0 4 1 8 8 8 8 8 8 8 4 8 0 8 8 1 8 8 8 8 1 8 4 8 8 9 1\n",
      " 8 8 8 8 8 8 8 5 8 8 8 8 8 8 8 8 8 4 8 8 8 8 8 8 8 8 6 0 8 8 2 8 8 0 8 8 8\n",
      " 8 8 8 9 8 8 8 0 8 8 8 8 1 9 9 9 1 9 9 8 1 9 9 1 9 1 1 9 9 9 9 9 8 9 9 0 1\n",
      " 1 2 9 8 5 9 9 9 1 9 9 9 7 9 9 9 1 9 9 9 9 9 9 1 9 9 9 1 9 9 1 0 9 1 5 9 1\n",
      " 1 9 0 7 9 3 1 8 3 8 9 1 9 8 9 9 1 9 9 1 9 8 9 9 0 8 9 9 9 9 9 9 1 1 8 9 9\n",
      " 9]\n"
     ]
    }
   ],
   "source": [
    "print(y_pred)"
   ]
  },
  {
   "cell_type": "code",
   "execution_count": 140,
   "metadata": {},
   "outputs": [
    {
     "ename": "ValueError",
     "evalue": "If using all scalar values, you must pass an index",
     "output_type": "error",
     "traceback": [
      "\u001b[1;31m---------------------------------------------------------------------------\u001b[0m",
      "\u001b[1;31mValueError\u001b[0m                                Traceback (most recent call last)",
      "\u001b[1;32m<ipython-input-140-729abb18e734>\u001b[0m in \u001b[0;36m<module>\u001b[1;34m\u001b[0m\n\u001b[1;32m----> 1\u001b[1;33m \u001b[0mdf\u001b[0m \u001b[1;33m=\u001b[0m \u001b[0mpd\u001b[0m\u001b[1;33m.\u001b[0m\u001b[0mDataFrame\u001b[0m\u001b[1;33m(\u001b[0m\u001b[0mdata\u001b[0m\u001b[1;33m,\u001b[0m \u001b[0mcolumns\u001b[0m\u001b[1;33m=\u001b[0m\u001b[1;33m[\u001b[0m\u001b[1;34m'y_Actual'\u001b[0m\u001b[1;33m,\u001b[0m\u001b[1;34m'y_Predicted'\u001b[0m\u001b[1;33m]\u001b[0m\u001b[1;33m)\u001b[0m\u001b[1;33m\u001b[0m\u001b[1;33m\u001b[0m\u001b[0m\n\u001b[0m\u001b[0;32m      2\u001b[0m \u001b[0mconfusion_matrix\u001b[0m \u001b[1;33m=\u001b[0m \u001b[0mpd\u001b[0m\u001b[1;33m.\u001b[0m\u001b[0mcrosstab\u001b[0m\u001b[1;33m(\u001b[0m\u001b[0mdf\u001b[0m\u001b[1;33m[\u001b[0m\u001b[1;34m'y_Actual'\u001b[0m\u001b[1;33m]\u001b[0m\u001b[1;33m,\u001b[0m \u001b[0mdf\u001b[0m\u001b[1;33m[\u001b[0m\u001b[1;34m'y_Predicted'\u001b[0m\u001b[1;33m]\u001b[0m\u001b[1;33m,\u001b[0m \u001b[0mrownames\u001b[0m\u001b[1;33m=\u001b[0m\u001b[1;33m[\u001b[0m\u001b[1;34m'Actual'\u001b[0m\u001b[1;33m]\u001b[0m\u001b[1;33m,\u001b[0m \u001b[0mcolnames\u001b[0m\u001b[1;33m=\u001b[0m\u001b[1;33m[\u001b[0m\u001b[1;34m'Predicted'\u001b[0m\u001b[1;33m]\u001b[0m\u001b[1;33m)\u001b[0m\u001b[1;33m\u001b[0m\u001b[1;33m\u001b[0m\u001b[0m\n",
      "\u001b[1;32mc:\\users\\jacro\\desktop\\bdml\\env\\lib\\site-packages\\pandas\\core\\frame.py\u001b[0m in \u001b[0;36m__init__\u001b[1;34m(self, data, index, columns, dtype, copy)\u001b[0m\n\u001b[0;32m    466\u001b[0m \u001b[1;33m\u001b[0m\u001b[0m\n\u001b[0;32m    467\u001b[0m         \u001b[1;32melif\u001b[0m \u001b[0misinstance\u001b[0m\u001b[1;33m(\u001b[0m\u001b[0mdata\u001b[0m\u001b[1;33m,\u001b[0m \u001b[0mdict\u001b[0m\u001b[1;33m)\u001b[0m\u001b[1;33m:\u001b[0m\u001b[1;33m\u001b[0m\u001b[1;33m\u001b[0m\u001b[0m\n\u001b[1;32m--> 468\u001b[1;33m             \u001b[0mmgr\u001b[0m \u001b[1;33m=\u001b[0m \u001b[0minit_dict\u001b[0m\u001b[1;33m(\u001b[0m\u001b[0mdata\u001b[0m\u001b[1;33m,\u001b[0m \u001b[0mindex\u001b[0m\u001b[1;33m,\u001b[0m \u001b[0mcolumns\u001b[0m\u001b[1;33m,\u001b[0m \u001b[0mdtype\u001b[0m\u001b[1;33m=\u001b[0m\u001b[0mdtype\u001b[0m\u001b[1;33m)\u001b[0m\u001b[1;33m\u001b[0m\u001b[1;33m\u001b[0m\u001b[0m\n\u001b[0m\u001b[0;32m    469\u001b[0m         \u001b[1;32melif\u001b[0m \u001b[0misinstance\u001b[0m\u001b[1;33m(\u001b[0m\u001b[0mdata\u001b[0m\u001b[1;33m,\u001b[0m \u001b[0mma\u001b[0m\u001b[1;33m.\u001b[0m\u001b[0mMaskedArray\u001b[0m\u001b[1;33m)\u001b[0m\u001b[1;33m:\u001b[0m\u001b[1;33m\u001b[0m\u001b[1;33m\u001b[0m\u001b[0m\n\u001b[0;32m    470\u001b[0m             \u001b[1;32mimport\u001b[0m \u001b[0mnumpy\u001b[0m\u001b[1;33m.\u001b[0m\u001b[0mma\u001b[0m\u001b[1;33m.\u001b[0m\u001b[0mmrecords\u001b[0m \u001b[1;32mas\u001b[0m \u001b[0mmrecords\u001b[0m\u001b[1;33m\u001b[0m\u001b[1;33m\u001b[0m\u001b[0m\n",
      "\u001b[1;32mc:\\users\\jacro\\desktop\\bdml\\env\\lib\\site-packages\\pandas\\core\\internals\\construction.py\u001b[0m in \u001b[0;36minit_dict\u001b[1;34m(data, index, columns, dtype)\u001b[0m\n\u001b[0;32m    252\u001b[0m             \u001b[1;31m# GH10856\u001b[0m\u001b[1;33m\u001b[0m\u001b[1;33m\u001b[0m\u001b[1;33m\u001b[0m\u001b[0m\n\u001b[0;32m    253\u001b[0m             \u001b[1;31m# raise ValueError if only scalars in dict\u001b[0m\u001b[1;33m\u001b[0m\u001b[1;33m\u001b[0m\u001b[1;33m\u001b[0m\u001b[0m\n\u001b[1;32m--> 254\u001b[1;33m             \u001b[0mindex\u001b[0m \u001b[1;33m=\u001b[0m \u001b[0mextract_index\u001b[0m\u001b[1;33m(\u001b[0m\u001b[0marrays\u001b[0m\u001b[1;33m[\u001b[0m\u001b[1;33m~\u001b[0m\u001b[0mmissing\u001b[0m\u001b[1;33m]\u001b[0m\u001b[1;33m)\u001b[0m\u001b[1;33m\u001b[0m\u001b[1;33m\u001b[0m\u001b[0m\n\u001b[0m\u001b[0;32m    255\u001b[0m         \u001b[1;32melse\u001b[0m\u001b[1;33m:\u001b[0m\u001b[1;33m\u001b[0m\u001b[1;33m\u001b[0m\u001b[0m\n\u001b[0;32m    256\u001b[0m             \u001b[0mindex\u001b[0m \u001b[1;33m=\u001b[0m \u001b[0mensure_index\u001b[0m\u001b[1;33m(\u001b[0m\u001b[0mindex\u001b[0m\u001b[1;33m)\u001b[0m\u001b[1;33m\u001b[0m\u001b[1;33m\u001b[0m\u001b[0m\n",
      "\u001b[1;32mc:\\users\\jacro\\desktop\\bdml\\env\\lib\\site-packages\\pandas\\core\\internals\\construction.py\u001b[0m in \u001b[0;36mextract_index\u001b[1;34m(data)\u001b[0m\n\u001b[0;32m    385\u001b[0m \u001b[1;33m\u001b[0m\u001b[0m\n\u001b[0;32m    386\u001b[0m         \u001b[1;32mif\u001b[0m \u001b[1;32mnot\u001b[0m \u001b[0mindexes\u001b[0m \u001b[1;32mand\u001b[0m \u001b[1;32mnot\u001b[0m \u001b[0mraw_lengths\u001b[0m\u001b[1;33m:\u001b[0m\u001b[1;33m\u001b[0m\u001b[1;33m\u001b[0m\u001b[0m\n\u001b[1;32m--> 387\u001b[1;33m             \u001b[1;32mraise\u001b[0m \u001b[0mValueError\u001b[0m\u001b[1;33m(\u001b[0m\u001b[1;34m\"If using all scalar values, you must pass an index\"\u001b[0m\u001b[1;33m)\u001b[0m\u001b[1;33m\u001b[0m\u001b[1;33m\u001b[0m\u001b[0m\n\u001b[0m\u001b[0;32m    388\u001b[0m \u001b[1;33m\u001b[0m\u001b[0m\n\u001b[0;32m    389\u001b[0m         \u001b[1;32mif\u001b[0m \u001b[0mhave_series\u001b[0m\u001b[1;33m:\u001b[0m\u001b[1;33m\u001b[0m\u001b[1;33m\u001b[0m\u001b[0m\n",
      "\u001b[1;31mValueError\u001b[0m: If using all scalar values, you must pass an index"
     ]
    }
   ],
   "source": []
  },
  {
   "cell_type": "code",
   "execution_count": null,
   "metadata": {},
   "outputs": [],
   "source": []
  }
 ],
 "metadata": {
  "kernelspec": {
   "display_name": "Python 3",
   "language": "python",
   "name": "python3"
  },
  "language_info": {
   "codemirror_mode": {
    "name": "ipython",
    "version": 3
   },
   "file_extension": ".py",
   "mimetype": "text/x-python",
   "name": "python",
   "nbconvert_exporter": "python",
   "pygments_lexer": "ipython3",
   "version": "3.8.6"
  }
 },
 "nbformat": 4,
 "nbformat_minor": 4
}
